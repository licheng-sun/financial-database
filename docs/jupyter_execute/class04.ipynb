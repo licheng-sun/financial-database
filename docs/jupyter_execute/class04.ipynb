{
 "cells": [
  {
   "cell_type": "code",
   "execution_count": 1,
   "id": "bf6aeb87",
   "metadata": {
    "execution": {
     "iopub.execute_input": "2022-02-02T22:33:46.433126Z",
     "iopub.status.busy": "2022-02-02T22:33:46.432509Z",
     "iopub.status.idle": "2022-02-02T22:33:51.412436Z",
     "shell.execute_reply": "2022-02-02T22:33:51.411880Z"
    }
   },
   "outputs": [],
   "source": [
    "import pandas as pd\n",
    "import numpy as np\n",
    "\n",
    "url = 'https://www.dropbox.com/s/3x230qb3fkopij3/datastream_asset.xlsx?dl=1'\n",
    "asset = pd.read_excel(url, sheet_name='asset')"
   ]
  },
  {
   "cell_type": "code",
   "execution_count": 2,
   "id": "f9fed98a",
   "metadata": {
    "execution": {
     "iopub.execute_input": "2022-02-02T22:33:51.428181Z",
     "iopub.status.busy": "2022-02-02T22:33:51.427504Z",
     "iopub.status.idle": "2022-02-02T22:33:51.435675Z",
     "shell.execute_reply": "2022-02-02T22:33:51.436110Z"
    }
   },
   "outputs": [
    {
     "data": {
      "text/html": [
       "<div>\n",
       "<style scoped>\n",
       "    .dataframe tbody tr th:only-of-type {\n",
       "        vertical-align: middle;\n",
       "    }\n",
       "\n",
       "    .dataframe tbody tr th {\n",
       "        vertical-align: top;\n",
       "    }\n",
       "\n",
       "    .dataframe thead th {\n",
       "        text-align: right;\n",
       "    }\n",
       "</style>\n",
       "<table border=\"1\" class=\"dataframe\">\n",
       "  <thead>\n",
       "    <tr style=\"text-align: right;\">\n",
       "      <th></th>\n",
       "      <th>isin</th>\n",
       "      <th>year</th>\n",
       "      <th>asset</th>\n",
       "    </tr>\n",
       "  </thead>\n",
       "  <tbody>\n",
       "    <tr>\n",
       "      <th>0</th>\n",
       "      <td>US0378331005</td>\n",
       "      <td>2000</td>\n",
       "      <td>6803000.0</td>\n",
       "    </tr>\n",
       "    <tr>\n",
       "      <th>1</th>\n",
       "      <td>US0378331005</td>\n",
       "      <td>2001</td>\n",
       "      <td>6021000.0</td>\n",
       "    </tr>\n",
       "    <tr>\n",
       "      <th>2</th>\n",
       "      <td>US0378331005</td>\n",
       "      <td>2002</td>\n",
       "      <td>6228000.0</td>\n",
       "    </tr>\n",
       "    <tr>\n",
       "      <th>3</th>\n",
       "      <td>US0378331005</td>\n",
       "      <td>2003</td>\n",
       "      <td>6755000.0</td>\n",
       "    </tr>\n",
       "    <tr>\n",
       "      <th>4</th>\n",
       "      <td>US0378331005</td>\n",
       "      <td>2004</td>\n",
       "      <td>7964000.0</td>\n",
       "    </tr>\n",
       "  </tbody>\n",
       "</table>\n",
       "</div>"
      ],
      "text/plain": [
       "           isin  year      asset\n",
       "0  US0378331005  2000  6803000.0\n",
       "1  US0378331005  2001  6021000.0\n",
       "2  US0378331005  2002  6228000.0\n",
       "3  US0378331005  2003  6755000.0\n",
       "4  US0378331005  2004  7964000.0"
      ]
     },
     "execution_count": 2,
     "metadata": {},
     "output_type": "execute_result"
    }
   ],
   "source": [
    "asset = pd.melt(asset, id_vars='Code', value_vars=asset.columns[1:],\n",
    "    value_name='asset')\n",
    "asset['isin'] = asset['variable'].str[:12]\n",
    "asset = asset[['isin','Code','asset']]\n",
    "asset = asset.rename(columns={'Code': 'year'})\n",
    "asset.head()"
   ]
  }
 ],
 "metadata": {
  "kernelspec": {
   "display_name": "Python3",
   "language": "python",
   "name": "python3"
  },
  "language_info": {
   "codemirror_mode": {
    "name": "ipython",
    "version": 3
   },
   "file_extension": ".py",
   "mimetype": "text/x-python",
   "name": "python",
   "nbconvert_exporter": "python",
   "pygments_lexer": "ipython3",
   "version": "3.8.12"
  }
 },
 "nbformat": 4,
 "nbformat_minor": 5
}