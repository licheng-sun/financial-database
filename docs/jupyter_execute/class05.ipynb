{
 "cells": [
  {
   "cell_type": "code",
   "execution_count": 1,
   "id": "fe59ef11",
   "metadata": {
    "execution": {
     "iopub.execute_input": "2022-02-02T23:09:30.644944Z",
     "iopub.status.busy": "2022-02-02T23:09:30.643890Z",
     "iopub.status.idle": "2022-02-02T23:09:32.055574Z",
     "shell.execute_reply": "2022-02-02T23:09:32.056133Z"
    }
   },
   "outputs": [],
   "source": [
    "import pandas as pd\n",
    "import numpy as np"
   ]
  },
  {
   "cell_type": "code",
   "execution_count": 2,
   "id": "861baf9c",
   "metadata": {
    "execution": {
     "iopub.execute_input": "2022-02-02T23:09:32.062449Z",
     "iopub.status.busy": "2022-02-02T23:09:32.061655Z",
     "iopub.status.idle": "2022-02-02T23:09:37.110002Z",
     "shell.execute_reply": "2022-02-02T23:09:37.110428Z"
    }
   },
   "outputs": [
    {
     "data": {
      "text/plain": [
       "297233"
      ]
     },
     "execution_count": 2,
     "metadata": {},
     "output_type": "execute_result"
    }
   ],
   "source": [
    "url = 'https://www.dropbox.com/s/u1safsdjh4n7pt3/dataucomp.txt?dl=1'\n",
    "data = pd.read_csv(url, sep='\\t', encoding='ISO-8859-1')\n",
    "len(data)"
   ]
  },
  {
   "cell_type": "code",
   "execution_count": 3,
   "id": "4830f289",
   "metadata": {
    "execution": {
     "iopub.execute_input": "2022-02-02T23:09:37.116338Z",
     "iopub.status.busy": "2022-02-02T23:09:37.115770Z",
     "iopub.status.idle": "2022-02-02T23:09:37.183641Z",
     "shell.execute_reply": "2022-02-02T23:09:37.184172Z"
    }
   },
   "outputs": [
    {
     "data": {
      "text/plain": [
       "297229"
      ]
     },
     "execution_count": 3,
     "metadata": {},
     "output_type": "execute_result"
    }
   ],
   "source": [
    "data.columns = data.columns.str.lower()\n",
    "data = data.drop_duplicates(['gvkey', 'year', 'execid'])\n",
    "len(data)"
   ]
  },
  {
   "cell_type": "code",
   "execution_count": 4,
   "id": "951888f4",
   "metadata": {
    "execution": {
     "iopub.execute_input": "2022-02-02T23:09:37.199193Z",
     "iopub.status.busy": "2022-02-02T23:09:37.198564Z",
     "iopub.status.idle": "2022-02-02T23:09:37.336203Z",
     "shell.execute_reply": "2022-02-02T23:09:37.336671Z"
    }
   },
   "outputs": [],
   "source": [
    "data['chair_id'] = np.where(data['titleann'].str.contains('chmn|chairman'), 1, 0)\n",
    "data['duality'] = np.where((data['ceoann']=='CEO') & (data['chair_id']==1), 1, 0)"
   ]
  },
  {
   "cell_type": "code",
   "execution_count": 5,
   "id": "028ed5a5",
   "metadata": {
    "execution": {
     "iopub.execute_input": "2022-02-02T23:09:37.343334Z",
     "iopub.status.busy": "2022-02-02T23:09:37.342758Z",
     "iopub.status.idle": "2022-02-02T23:09:37.496141Z",
     "shell.execute_reply": "2022-02-02T23:09:37.496570Z"
    }
   },
   "outputs": [
    {
     "data": {
      "text/plain": [
       "pct_female        0.068210\n",
       "pct_female_ceo    0.004514\n",
       "dtype: float64"
      ]
     },
     "execution_count": 5,
     "metadata": {},
     "output_type": "execute_result"
    }
   ],
   "source": [
    "# Count number of executives\n",
    "pct_female = (data.groupby(['gvkey', 'year', 'gender'])\n",
    "    ['execid'].count().unstack())\n",
    "\n",
    "# Fill missing values\n",
    "pct_female = pct_female.fillna(0)\n",
    "\n",
    "# Total number of executives\n",
    "pct_female['total'] = pct_female['FEMALE'] + pct_female['MALE']\n",
    "\n",
    "# Count number of female CEO\n",
    "female_ceo = (data[(data['ceoann']=='CEO') & (data['gender']=='FEMALE')]\n",
    "    .groupby(['gvkey', 'year'])['execid'].count().to_frame('n_female_ceo'))\n",
    "\n",
    "# Merge datasets\n",
    "pct_female = pct_female.join(female_ceo, how='left')\n",
    "\n",
    "# Fill missing values\n",
    "pct_female = pct_female.fillna(0)\n",
    "\n",
    "# Percentage of female executives\n",
    "pct_female['pct_female'] = pct_female['FEMALE'] / pct_female['total']\n",
    "\n",
    "# Percentage of female CEOs\n",
    "pct_female['pct_female_ceo'] = pct_female['n_female_ceo'] / pct_female['total']\n",
    "\n",
    "# Calculate averge percentage by year\n",
    "pct_female = (pct_female.groupby(level=1)\n",
    "    [['pct_female', 'pct_female_ceo']].mean())\n",
    "\n",
    "# Average during the sample period\n",
    "pct_female.mean()"
   ]
  }
 ],
 "metadata": {
  "kernelspec": {
   "display_name": "Python3",
   "language": "python",
   "name": "python3"
  },
  "language_info": {
   "codemirror_mode": {
    "name": "ipython",
    "version": 3
   },
   "file_extension": ".py",
   "mimetype": "text/x-python",
   "name": "python",
   "nbconvert_exporter": "python",
   "pygments_lexer": "ipython3",
   "version": "3.8.12"
  }
 },
 "nbformat": 4,
 "nbformat_minor": 5
}