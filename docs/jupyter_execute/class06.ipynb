{
 "cells": [
  {
   "cell_type": "code",
   "execution_count": 1,
   "id": "a390ae7f",
   "metadata": {
    "execution": {
     "iopub.execute_input": "2022-03-02T22:43:09.889479Z",
     "iopub.status.busy": "2022-03-02T22:43:09.889150Z",
     "iopub.status.idle": "2022-03-02T22:43:11.423963Z",
     "shell.execute_reply": "2022-03-02T22:43:11.423119Z"
    }
   },
   "outputs": [],
   "source": [
    "import pandas as pd\n",
    "import numpy as np"
   ]
  },
  {
   "cell_type": "code",
   "execution_count": 2,
   "id": "43876cc3",
   "metadata": {
    "execution": {
     "iopub.execute_input": "2022-03-02T22:43:11.427457Z",
     "iopub.status.busy": "2022-03-02T22:43:11.426973Z",
     "iopub.status.idle": "2022-03-02T22:43:15.211021Z",
     "shell.execute_reply": "2022-03-02T22:43:15.210257Z"
    }
   },
   "outputs": [],
   "source": [
    "url = 'https://www.dropbox.com/s/484ynn8mzihgj9q/uk.txt?dl=1'\n",
    "uk = pd.read_csv(url, sep='\\t', low_memory=False, dtype={'gvkey': str})"
   ]
  },
  {
   "cell_type": "code",
   "execution_count": 3,
   "id": "132156d7",
   "metadata": {
    "execution": {
     "iopub.execute_input": "2022-03-02T22:43:15.214530Z",
     "iopub.status.busy": "2022-03-02T22:43:15.214242Z",
     "iopub.status.idle": "2022-03-02T22:43:15.435992Z",
     "shell.execute_reply": "2022-03-02T22:43:15.435201Z"
    }
   },
   "outputs": [],
   "source": [
    "# Keep common shares\n",
    "uk = uk[uk['tpci']=='0'].copy()\n",
    "\n",
    "# Make sure fic is GBR\n",
    "uk = uk[uk['fic']=='GBR'].copy()\n",
    "\n",
    "# Keep primary share\n",
    "uk = uk[uk['iid']==uk['prirow']].copy()\n",
    "\n",
    "# Check duplicates\n",
    "uk = uk.drop_duplicates(['gvkey', 'iid', 'datadate']).copy()\n",
    "\n",
    "# Security level ID\n",
    "uk['stkcd'] = uk['gvkey'].astype(str) + uk['iid']\n",
    "\n",
    "# Adjusted price\n",
    "uk['p_adj'] = (uk['prccd']/uk['ajexdi']) * uk['trfd']"
   ]
  },
  {
   "cell_type": "code",
   "execution_count": 4,
   "id": "179c9554",
   "metadata": {
    "execution": {
     "iopub.execute_input": "2022-03-02T22:43:15.439325Z",
     "iopub.status.busy": "2022-03-02T22:43:15.438916Z",
     "iopub.status.idle": "2022-03-02T22:43:15.472862Z",
     "shell.execute_reply": "2022-03-02T22:43:15.472198Z"
    }
   },
   "outputs": [],
   "source": [
    "date_index = uk.drop_duplicates('datadate')[['datadate']].copy()\n",
    "date_index = date_index.sort_values('datadate', ignore_index=True)\n",
    "date_index['date_idx'] = date_index.index + 1"
   ]
  },
  {
   "cell_type": "code",
   "execution_count": 5,
   "id": "811e4369",
   "metadata": {
    "execution": {
     "iopub.execute_input": "2022-03-02T22:43:15.475823Z",
     "iopub.status.busy": "2022-03-02T22:43:15.475605Z",
     "iopub.status.idle": "2022-03-02T22:43:15.675959Z",
     "shell.execute_reply": "2022-03-02T22:43:15.675149Z"
    }
   },
   "outputs": [
    {
     "data": {
      "text/plain": [
       "1.0    192606\n",
       "2.0         5\n",
       "3.0         4\n",
       "8.0         1\n",
       "Name: date_diff, dtype: int64"
      ]
     },
     "execution_count": 5,
     "metadata": {},
     "output_type": "execute_result"
    }
   ],
   "source": [
    "uk1 = uk.merge(date_index, how='inner', on='datadate')\n",
    "uk1 = uk1.sort_values(['stkcd', 'datadate'], ignore_index=True)\n",
    "uk1['ldate_idx'] = uk1.groupby('stkcd')['date_idx'].shift(1)\n",
    "uk1['lp_adj'] = uk1.groupby('stkcd')['p_adj'].shift(1)\n",
    "uk1['date_diff'] = uk1['date_idx'] - uk1['ldate_idx']\n",
    "uk1['ret'] = uk1['p_adj'] / uk1['lp_adj'] - 1\n",
    "\n",
    "uk1['date_diff'].value_counts()"
   ]
  },
  {
   "cell_type": "code",
   "execution_count": 6,
   "id": "d247c5fc",
   "metadata": {
    "execution": {
     "iopub.execute_input": "2022-03-02T22:43:15.681584Z",
     "iopub.status.busy": "2022-03-02T22:43:15.681353Z",
     "iopub.status.idle": "2022-03-02T22:43:15.686311Z",
     "shell.execute_reply": "2022-03-02T22:43:15.685589Z"
    }
   },
   "outputs": [],
   "source": [
    "uk1['ret'] = np.where(uk1['date_diff']<=3, uk1['ret'], np.nan)"
   ]
  },
  {
   "cell_type": "code",
   "execution_count": 7,
   "id": "3e4cde98",
   "metadata": {
    "execution": {
     "iopub.execute_input": "2022-03-02T22:43:15.689143Z",
     "iopub.status.busy": "2022-03-02T22:43:15.688942Z",
     "iopub.status.idle": "2022-03-02T22:43:15.719079Z",
     "shell.execute_reply": "2022-03-02T22:43:15.718383Z"
    }
   },
   "outputs": [],
   "source": [
    "uk_month = uk1.query('monthend==1')[['stkcd', 'datadate', 'p_adj']].copy()\n",
    "\n",
    "uk_month['yyyymm'] = (uk_month['datadate']/100).astype(int)\n",
    "uk_month['year'] = (uk_month['yyyymm']/100).astype(int)\n",
    "uk_month['month'] = uk_month['yyyymm'] % 100\n",
    "\n",
    "uk_month['month_idx'] = (uk_month['year']-2020)*12 + uk_month['month'] - 6"
   ]
  },
  {
   "cell_type": "code",
   "execution_count": 8,
   "id": "5a06621e",
   "metadata": {
    "execution": {
     "iopub.execute_input": "2022-03-02T22:43:15.722410Z",
     "iopub.status.busy": "2022-03-02T22:43:15.722123Z",
     "iopub.status.idle": "2022-03-02T22:43:15.743753Z",
     "shell.execute_reply": "2022-03-02T22:43:15.742903Z"
    }
   },
   "outputs": [],
   "source": [
    "uk_month = uk_month.sort_values(['stkcd', 'yyyymm'], ignore_index=True)\n",
    "uk_month['lmonth_idx'] = uk_month.groupby('stkcd')['month_idx'].shift(1)\n",
    "uk_month['lp_adj'] = uk_month.groupby('stkcd')['p_adj'].shift(1)\n",
    "uk_month['month_diff'] = uk_month['month_idx'] - uk_month['lmonth_idx']\n",
    "uk_month['ret'] = uk_month['p_adj'] / uk_month['lp_adj'] - 1\n",
    "\n",
    "# Monthly return is missing if month gap is not 1 month\n",
    "uk_month['ret'] = np.where(uk_month['month_diff']==1, uk_month['ret'], np.nan)"
   ]
  }
 ],
 "metadata": {
  "kernelspec": {
   "display_name": "Python3",
   "language": "python",
   "name": "python3"
  },
  "language_info": {
   "codemirror_mode": {
    "name": "ipython",
    "version": 3
   },
   "file_extension": ".py",
   "mimetype": "text/x-python",
   "name": "python",
   "nbconvert_exporter": "python",
   "pygments_lexer": "ipython3",
   "version": "3.8.12"
  }
 },
 "nbformat": 4,
 "nbformat_minor": 5
}