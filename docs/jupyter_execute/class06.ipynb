{
 "cells": [
  {
   "cell_type": "code",
   "execution_count": 1,
   "id": "2e82f90c",
   "metadata": {
    "execution": {
     "iopub.execute_input": "2022-03-02T23:04:06.988877Z",
     "iopub.status.busy": "2022-03-02T23:04:06.988336Z",
     "iopub.status.idle": "2022-03-02T23:04:08.438797Z",
     "shell.execute_reply": "2022-03-02T23:04:08.437881Z"
    }
   },
   "outputs": [],
   "source": [
    "import pandas as pd\n",
    "import numpy as np"
   ]
  },
  {
   "cell_type": "code",
   "execution_count": 2,
   "id": "dc48ae06",
   "metadata": {
    "execution": {
     "iopub.execute_input": "2022-03-02T23:04:08.442008Z",
     "iopub.status.busy": "2022-03-02T23:04:08.441769Z",
     "iopub.status.idle": "2022-03-02T23:04:12.033511Z",
     "shell.execute_reply": "2022-03-02T23:04:12.032816Z"
    }
   },
   "outputs": [],
   "source": [
    "url = 'https://www.dropbox.com/s/484ynn8mzihgj9q/uk.txt?dl=1'\n",
    "uk = pd.read_csv(url, sep='\\t', low_memory=False, dtype={'gvkey': str})"
   ]
  },
  {
   "cell_type": "code",
   "execution_count": 3,
   "id": "9f470b81",
   "metadata": {
    "execution": {
     "iopub.execute_input": "2022-03-02T23:04:12.036899Z",
     "iopub.status.busy": "2022-03-02T23:04:12.036647Z",
     "iopub.status.idle": "2022-03-02T23:04:12.237486Z",
     "shell.execute_reply": "2022-03-02T23:04:12.236778Z"
    }
   },
   "outputs": [],
   "source": [
    "# Keep common shares\n",
    "uk = uk[uk['tpci']=='0'].copy()\n",
    "\n",
    "# Make sure fic is GBR\n",
    "uk = uk[uk['fic']=='GBR'].copy()\n",
    "\n",
    "# Keep primary share\n",
    "uk = uk[uk['iid']==uk['prirow']].copy()\n",
    "\n",
    "# Check duplicates\n",
    "uk = uk.drop_duplicates(['gvkey', 'iid', 'datadate']).copy()\n",
    "\n",
    "# Security level ID\n",
    "uk['stkcd'] = uk['gvkey'].astype(str) + uk['iid']\n",
    "\n",
    "# Adjusted price\n",
    "uk['p_adj'] = (uk['prccd']/uk['ajexdi']) * uk['trfd']"
   ]
  },
  {
   "cell_type": "code",
   "execution_count": 4,
   "id": "26016c26",
   "metadata": {
    "execution": {
     "iopub.execute_input": "2022-03-02T23:04:12.240616Z",
     "iopub.status.busy": "2022-03-02T23:04:12.240355Z",
     "iopub.status.idle": "2022-03-02T23:04:12.270440Z",
     "shell.execute_reply": "2022-03-02T23:04:12.269771Z"
    }
   },
   "outputs": [],
   "source": [
    "date_index = uk.drop_duplicates('datadate')[['datadate']].copy()\n",
    "date_index = date_index.sort_values('datadate', ignore_index=True)\n",
    "date_index['date_idx'] = date_index.index + 1"
   ]
  },
  {
   "cell_type": "code",
   "execution_count": 5,
   "id": "b5c2b8c6",
   "metadata": {
    "execution": {
     "iopub.execute_input": "2022-03-02T23:04:12.273590Z",
     "iopub.status.busy": "2022-03-02T23:04:12.273160Z",
     "iopub.status.idle": "2022-03-02T23:04:12.435570Z",
     "shell.execute_reply": "2022-03-02T23:04:12.434931Z"
    }
   },
   "outputs": [
    {
     "data": {
      "text/plain": [
       "1.0    192606\n",
       "2.0         5\n",
       "3.0         4\n",
       "8.0         1\n",
       "Name: date_diff, dtype: int64"
      ]
     },
     "execution_count": 5,
     "metadata": {},
     "output_type": "execute_result"
    }
   ],
   "source": [
    "uk1 = uk.merge(date_index, how='inner', on='datadate')\n",
    "uk1 = uk1.sort_values(['stkcd', 'datadate'], ignore_index=True)\n",
    "uk1['ldate_idx'] = uk1.groupby('stkcd')['date_idx'].shift(1)\n",
    "uk1['lp_adj'] = uk1.groupby('stkcd')['p_adj'].shift(1)\n",
    "uk1['date_diff'] = uk1['date_idx'] - uk1['ldate_idx']\n",
    "uk1['ret'] = uk1['p_adj'] / uk1['lp_adj'] - 1\n",
    "\n",
    "uk1['date_diff'].value_counts()"
   ]
  },
  {
   "cell_type": "code",
   "execution_count": 6,
   "id": "5cb21918",
   "metadata": {
    "execution": {
     "iopub.execute_input": "2022-03-02T23:04:12.441095Z",
     "iopub.status.busy": "2022-03-02T23:04:12.440746Z",
     "iopub.status.idle": "2022-03-02T23:04:12.445427Z",
     "shell.execute_reply": "2022-03-02T23:04:12.444784Z"
    }
   },
   "outputs": [],
   "source": [
    "uk1['ret'] = np.where(uk1['date_diff']<=3, uk1['ret'], np.nan)"
   ]
  },
  {
   "cell_type": "code",
   "execution_count": 7,
   "id": "36b1404e",
   "metadata": {
    "execution": {
     "iopub.execute_input": "2022-03-02T23:04:12.448325Z",
     "iopub.status.busy": "2022-03-02T23:04:12.448104Z",
     "iopub.status.idle": "2022-03-02T23:04:12.475573Z",
     "shell.execute_reply": "2022-03-02T23:04:12.474900Z"
    }
   },
   "outputs": [],
   "source": [
    "uk_month = uk1.query('monthend==1')[['stkcd', 'datadate', 'p_adj']].copy()\n",
    "\n",
    "uk_month['yyyymm'] = (uk_month['datadate']/100).astype(int)\n",
    "uk_month['year'] = (uk_month['yyyymm']/100).astype(int)\n",
    "uk_month['month'] = uk_month['yyyymm'] % 100\n",
    "\n",
    "uk_month['month_idx'] = (uk_month['year']-2020)*12 + uk_month['month'] - 6"
   ]
  },
  {
   "cell_type": "code",
   "execution_count": 8,
   "id": "7434a9fc",
   "metadata": {
    "execution": {
     "iopub.execute_input": "2022-03-02T23:04:12.479004Z",
     "iopub.status.busy": "2022-03-02T23:04:12.478460Z",
     "iopub.status.idle": "2022-03-02T23:04:12.495885Z",
     "shell.execute_reply": "2022-03-02T23:04:12.495052Z"
    }
   },
   "outputs": [],
   "source": [
    "uk_month = uk_month.sort_values(['stkcd', 'yyyymm'], ignore_index=True)\n",
    "uk_month['lmonth_idx'] = uk_month.groupby('stkcd')['month_idx'].shift(1)\n",
    "uk_month['lp_adj'] = uk_month.groupby('stkcd')['p_adj'].shift(1)\n",
    "uk_month['month_diff'] = uk_month['month_idx'] - uk_month['lmonth_idx']\n",
    "uk_month['ret'] = uk_month['p_adj'] / uk_month['lp_adj'] - 1\n",
    "\n",
    "# Monthly return is missing if month gap is not 1 month\n",
    "uk_month['ret'] = np.where(uk_month['month_diff']==1, uk_month['ret'], np.nan)"
   ]
  }
 ],
 "metadata": {
  "kernelspec": {
   "display_name": "Python3",
   "language": "python",
   "name": "python3"
  },
  "language_info": {
   "codemirror_mode": {
    "name": "ipython",
    "version": 3
   },
   "file_extension": ".py",
   "mimetype": "text/x-python",
   "name": "python",
   "nbconvert_exporter": "python",
   "pygments_lexer": "ipython3",
   "version": "3.8.12"
  }
 },
 "nbformat": 4,
 "nbformat_minor": 5
}