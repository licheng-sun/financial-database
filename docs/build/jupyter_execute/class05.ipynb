{
 "cells": [
  {
   "cell_type": "code",
   "execution_count": 1,
   "id": "647200d9",
   "metadata": {
    "execution": {
     "iopub.execute_input": "2022-02-02T22:38:12.081003Z",
     "iopub.status.busy": "2022-02-02T22:38:12.079866Z",
     "iopub.status.idle": "2022-02-02T22:38:13.407416Z",
     "shell.execute_reply": "2022-02-02T22:38:13.407884Z"
    }
   },
   "outputs": [],
   "source": [
    "import pandas as pd\n",
    "import numpy as np"
   ]
  },
  {
   "cell_type": "code",
   "execution_count": 2,
   "id": "dc1b1ee3",
   "metadata": {
    "execution": {
     "iopub.execute_input": "2022-02-02T22:38:13.413035Z",
     "iopub.status.busy": "2022-02-02T22:38:13.412472Z",
     "iopub.status.idle": "2022-02-02T22:38:19.140427Z",
     "shell.execute_reply": "2022-02-02T22:38:19.141004Z"
    }
   },
   "outputs": [
    {
     "data": {
      "text/plain": [
       "297233"
      ]
     },
     "execution_count": 2,
     "metadata": {},
     "output_type": "execute_result"
    }
   ],
   "source": [
    "url = 'https://www.dropbox.com/s/u1safsdjh4n7pt3/dataucomp.txt?dl=1'\n",
    "data = pd.read_csv(url, sep='\\t', encoding='ISO-8859-1')\n",
    "len(data)"
   ]
  },
  {
   "cell_type": "code",
   "execution_count": 3,
   "id": "e220a729",
   "metadata": {
    "execution": {
     "iopub.execute_input": "2022-02-02T22:38:19.146955Z",
     "iopub.status.busy": "2022-02-02T22:38:19.146246Z",
     "iopub.status.idle": "2022-02-02T22:38:19.215859Z",
     "shell.execute_reply": "2022-02-02T22:38:19.216637Z"
    }
   },
   "outputs": [
    {
     "data": {
      "text/plain": [
       "297229"
      ]
     },
     "execution_count": 3,
     "metadata": {},
     "output_type": "execute_result"
    }
   ],
   "source": [
    "data.columns = data.columns.str.lower()\n",
    "data = data.drop_duplicates(['gvkey', 'year', 'execid'])\n",
    "len(data)"
   ]
  },
  {
   "cell_type": "code",
   "execution_count": 4,
   "id": "827fe518",
   "metadata": {
    "execution": {
     "iopub.execute_input": "2022-02-02T22:38:19.232363Z",
     "iopub.status.busy": "2022-02-02T22:38:19.231717Z",
     "iopub.status.idle": "2022-02-02T22:38:19.371031Z",
     "shell.execute_reply": "2022-02-02T22:38:19.371498Z"
    }
   },
   "outputs": [],
   "source": [
    "data['chair_id'] = np.where(data['titleann'].str.contains('chmn|chairman'), 1, 0)\n",
    "data['duality'] = np.where((data['ceoann']=='CEO') & (data['chair_id']==1), 1, 0)"
   ]
  },
  {
   "cell_type": "code",
   "execution_count": 5,
   "id": "54462b95",
   "metadata": {
    "execution": {
     "iopub.execute_input": "2022-02-02T22:38:19.379880Z",
     "iopub.status.busy": "2022-02-02T22:38:19.379013Z",
     "iopub.status.idle": "2022-02-02T22:38:19.553285Z",
     "shell.execute_reply": "2022-02-02T22:38:19.554148Z"
    }
   },
   "outputs": [
    {
     "data": {
      "text/plain": [
       "pct_female        0.068210\n",
       "pct_female_ceo    0.004514\n",
       "dtype: float64"
      ]
     },
     "execution_count": 5,
     "metadata": {},
     "output_type": "execute_result"
    }
   ],
   "source": [
    "# Count number of executives\n",
    "pct_female = (data.groupby(['gvkey', 'year', 'gender'])\n",
    "    ['execid'].count().unstack())\n",
    "\n",
    "# Fill missing values\n",
    "pct_female = pct_female.fillna(0)\n",
    "\n",
    "# Total number of executives\n",
    "pct_female['total'] = pct_female['FEMALE'] + pct_female['MALE']\n",
    "\n",
    "# Count number of female CEO\n",
    "female_ceo = (data[(data['ceoann']=='CEO') & (data['gender']=='FEMALE')]\n",
    "    .groupby(['gvkey', 'year'])['execid'].count().to_frame('n_female_ceo'))\n",
    "\n",
    "# Merge datasets\n",
    "pct_female = pct_female.join(female_ceo, how='left')\n",
    "\n",
    "# Fill missing values\n",
    "pct_female = pct_female.fillna(0)\n",
    "\n",
    "# Percentage of female executives\n",
    "pct_female['pct_female'] = pct_female['FEMALE'] / pct_female['total']\n",
    "\n",
    "# Percentage of female CEOs\n",
    "pct_female['pct_female_ceo'] = pct_female['n_female_ceo'] / pct_female['total']\n",
    "\n",
    "# Calculate averge percentage by year\n",
    "pct_female = (pct_female.groupby(level=1)\n",
    "    [['pct_female', 'pct_female_ceo']].mean())\n",
    "\n",
    "# Average during the sample period\n",
    "pct_female.mean()"
   ]
  }
 ],
 "metadata": {
  "kernelspec": {
   "display_name": "Python3",
   "language": "python",
   "name": "python3"
  },
  "language_info": {
   "codemirror_mode": {
    "name": "ipython",
    "version": 3
   },
   "file_extension": ".py",
   "mimetype": "text/x-python",
   "name": "python",
   "nbconvert_exporter": "python",
   "pygments_lexer": "ipython3",
   "version": "3.8.12"
  }
 },
 "nbformat": 4,
 "nbformat_minor": 5
}