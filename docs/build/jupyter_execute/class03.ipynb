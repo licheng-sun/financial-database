{
 "cells": [
  {
   "cell_type": "code",
   "execution_count": 1,
   "id": "6148891c",
   "metadata": {
    "execution": {
     "iopub.execute_input": "2021-11-16T21:17:08.513266Z",
     "iopub.status.busy": "2021-11-16T21:17:08.511979Z",
     "iopub.status.idle": "2021-11-16T21:17:09.942166Z",
     "shell.execute_reply": "2021-11-16T21:17:09.941501Z"
    }
   },
   "outputs": [],
   "source": [
    "import pandas as pd\n",
    "import numpy as np"
   ]
  },
  {
   "cell_type": "code",
   "execution_count": 2,
   "id": "46747a61",
   "metadata": {
    "execution": {
     "iopub.execute_input": "2021-11-16T21:17:09.947352Z",
     "iopub.status.busy": "2021-11-16T21:17:09.946761Z",
     "iopub.status.idle": "2021-11-16T21:17:14.300153Z",
     "shell.execute_reply": "2021-11-16T21:17:14.300622Z"
    }
   },
   "outputs": [
    {
     "data": {
      "text/html": [
       "<div>\n",
       "<style scoped>\n",
       "    .dataframe tbody tr th:only-of-type {\n",
       "        vertical-align: middle;\n",
       "    }\n",
       "\n",
       "    .dataframe tbody tr th {\n",
       "        vertical-align: top;\n",
       "    }\n",
       "\n",
       "    .dataframe thead th {\n",
       "        text-align: right;\n",
       "    }\n",
       "</style>\n",
       "<table border=\"1\" class=\"dataframe\">\n",
       "  <thead>\n",
       "    <tr style=\"text-align: right;\">\n",
       "      <th></th>\n",
       "      <th>gvkey</th>\n",
       "      <th>datadate</th>\n",
       "      <th>fyear</th>\n",
       "      <th>indfmt</th>\n",
       "      <th>consol</th>\n",
       "    </tr>\n",
       "  </thead>\n",
       "  <tbody>\n",
       "    <tr>\n",
       "      <th>0</th>\n",
       "      <td>1004</td>\n",
       "      <td>20000531</td>\n",
       "      <td>1999</td>\n",
       "      <td>INDL</td>\n",
       "      <td>C</td>\n",
       "    </tr>\n",
       "    <tr>\n",
       "      <th>1</th>\n",
       "      <td>1004</td>\n",
       "      <td>20010531</td>\n",
       "      <td>2000</td>\n",
       "      <td>INDL</td>\n",
       "      <td>C</td>\n",
       "    </tr>\n",
       "    <tr>\n",
       "      <th>2</th>\n",
       "      <td>1004</td>\n",
       "      <td>20020531</td>\n",
       "      <td>2001</td>\n",
       "      <td>INDL</td>\n",
       "      <td>C</td>\n",
       "    </tr>\n",
       "    <tr>\n",
       "      <th>3</th>\n",
       "      <td>1004</td>\n",
       "      <td>20030531</td>\n",
       "      <td>2002</td>\n",
       "      <td>INDL</td>\n",
       "      <td>C</td>\n",
       "    </tr>\n",
       "    <tr>\n",
       "      <th>4</th>\n",
       "      <td>1004</td>\n",
       "      <td>20040531</td>\n",
       "      <td>2003</td>\n",
       "      <td>INDL</td>\n",
       "      <td>C</td>\n",
       "    </tr>\n",
       "  </tbody>\n",
       "</table>\n",
       "</div>"
      ],
      "text/plain": [
       "   gvkey  datadate  fyear indfmt consol\n",
       "0   1004  20000531   1999   INDL      C\n",
       "1   1004  20010531   2000   INDL      C\n",
       "2   1004  20020531   2001   INDL      C\n",
       "3   1004  20030531   2002   INDL      C\n",
       "4   1004  20040531   2003   INDL      C"
      ]
     },
     "execution_count": 2,
     "metadata": {},
     "output_type": "execute_result"
    }
   ],
   "source": [
    "url = 'https://www.dropbox.com/s/qro99n7ngq0aztr/funda_raw.txt?dl=1'\n",
    "funda_raw = pd.read_csv(url, sep='\\t', low_memory=False)\n",
    "\n",
    "# View first 5 rows and first 5 columns\n",
    "funda_raw.iloc[:5, :5]"
   ]
  },
  {
   "cell_type": "code",
   "execution_count": 3,
   "id": "8dd4a2fe",
   "metadata": {
    "execution": {
     "iopub.execute_input": "2021-11-16T21:17:14.305111Z",
     "iopub.status.busy": "2021-11-16T21:17:14.304512Z",
     "iopub.status.idle": "2021-11-16T21:17:14.373289Z",
     "shell.execute_reply": "2021-11-16T21:17:14.373895Z"
    }
   },
   "outputs": [
    {
     "name": "stdout",
     "output_type": "stream",
     "text": [
      "<class 'pandas.core.frame.DataFrame'>\n",
      "RangeIndex: 199080 entries, 0 to 199079\n",
      "Data columns (total 16 columns):\n",
      " #   Column    Non-Null Count   Dtype  \n",
      "---  ------    --------------   -----  \n",
      " 0   gvkey     199080 non-null  int64  \n",
      " 1   datadate  199080 non-null  int64  \n",
      " 2   fyear     199080 non-null  int64  \n",
      " 3   indfmt    199080 non-null  object \n",
      " 4   consol    199080 non-null  object \n",
      " 5   popsrc    199080 non-null  object \n",
      " 6   datafmt   199080 non-null  object \n",
      " 7   tic       198983 non-null  object \n",
      " 8   cusip     198983 non-null  object \n",
      " 9   curcd     199080 non-null  object \n",
      " 10  at        161570 non-null  float64\n",
      " 11  ebit      160025 non-null  float64\n",
      " 12  seq       161564 non-null  float64\n",
      " 13  exchg     198983 non-null  float64\n",
      " 14  costat    199080 non-null  object \n",
      " 15  sic       199075 non-null  float64\n",
      "dtypes: float64(5), int64(3), object(8)\n",
      "memory usage: 24.3+ MB\n"
     ]
    }
   ],
   "source": [
    "# Data types\n",
    "funda_raw.info()"
   ]
  },
  {
   "cell_type": "code",
   "execution_count": 4,
   "id": "80ff283b",
   "metadata": {
    "execution": {
     "iopub.execute_input": "2021-11-16T21:17:14.385526Z",
     "iopub.status.busy": "2021-11-16T21:17:14.384533Z",
     "iopub.status.idle": "2021-11-16T21:17:18.239158Z",
     "shell.execute_reply": "2021-11-16T21:17:18.239635Z"
    }
   },
   "outputs": [
    {
     "data": {
      "text/html": [
       "<div>\n",
       "<style scoped>\n",
       "    .dataframe tbody tr th:only-of-type {\n",
       "        vertical-align: middle;\n",
       "    }\n",
       "\n",
       "    .dataframe tbody tr th {\n",
       "        vertical-align: top;\n",
       "    }\n",
       "\n",
       "    .dataframe thead th {\n",
       "        text-align: right;\n",
       "    }\n",
       "</style>\n",
       "<table border=\"1\" class=\"dataframe\">\n",
       "  <thead>\n",
       "    <tr style=\"text-align: right;\">\n",
       "      <th></th>\n",
       "      <th>gvkey</th>\n",
       "      <th>datadate</th>\n",
       "      <th>fyear</th>\n",
       "      <th>indfmt</th>\n",
       "      <th>consol</th>\n",
       "    </tr>\n",
       "  </thead>\n",
       "  <tbody>\n",
       "    <tr>\n",
       "      <th>0</th>\n",
       "      <td>001004</td>\n",
       "      <td>20000531</td>\n",
       "      <td>1999</td>\n",
       "      <td>INDL</td>\n",
       "      <td>C</td>\n",
       "    </tr>\n",
       "    <tr>\n",
       "      <th>1</th>\n",
       "      <td>001004</td>\n",
       "      <td>20010531</td>\n",
       "      <td>2000</td>\n",
       "      <td>INDL</td>\n",
       "      <td>C</td>\n",
       "    </tr>\n",
       "    <tr>\n",
       "      <th>2</th>\n",
       "      <td>001004</td>\n",
       "      <td>20020531</td>\n",
       "      <td>2001</td>\n",
       "      <td>INDL</td>\n",
       "      <td>C</td>\n",
       "    </tr>\n",
       "    <tr>\n",
       "      <th>3</th>\n",
       "      <td>001004</td>\n",
       "      <td>20030531</td>\n",
       "      <td>2002</td>\n",
       "      <td>INDL</td>\n",
       "      <td>C</td>\n",
       "    </tr>\n",
       "    <tr>\n",
       "      <th>4</th>\n",
       "      <td>001004</td>\n",
       "      <td>20040531</td>\n",
       "      <td>2003</td>\n",
       "      <td>INDL</td>\n",
       "      <td>C</td>\n",
       "    </tr>\n",
       "  </tbody>\n",
       "</table>\n",
       "</div>"
      ],
      "text/plain": [
       "    gvkey  datadate  fyear indfmt consol\n",
       "0  001004  20000531   1999   INDL      C\n",
       "1  001004  20010531   2000   INDL      C\n",
       "2  001004  20020531   2001   INDL      C\n",
       "3  001004  20030531   2002   INDL      C\n",
       "4  001004  20040531   2003   INDL      C"
      ]
     },
     "execution_count": 4,
     "metadata": {},
     "output_type": "execute_result"
    }
   ],
   "source": [
    "# Read the data again with consideration of the data type of gvkey\n",
    "funda_raw = pd.read_csv(url, sep='\\t', low_memory=False, dtype={'gvkey': str})\n",
    "\n",
    "# View first 5 rows and first 5 columns\n",
    "funda_raw.iloc[:5, :5]"
   ]
  },
  {
   "cell_type": "code",
   "execution_count": 5,
   "id": "315a2987",
   "metadata": {
    "execution": {
     "iopub.execute_input": "2021-11-16T21:17:18.244528Z",
     "iopub.status.busy": "2021-11-16T21:17:18.243891Z",
     "iopub.status.idle": "2021-11-16T21:17:18.322167Z",
     "shell.execute_reply": "2021-11-16T21:17:18.322599Z"
    }
   },
   "outputs": [
    {
     "name": "stdout",
     "output_type": "stream",
     "text": [
      "<class 'pandas.core.frame.DataFrame'>\n",
      "RangeIndex: 199080 entries, 0 to 199079\n",
      "Data columns (total 16 columns):\n",
      " #   Column    Non-Null Count   Dtype  \n",
      "---  ------    --------------   -----  \n",
      " 0   gvkey     199080 non-null  object \n",
      " 1   datadate  199080 non-null  int64  \n",
      " 2   fyear     199080 non-null  int64  \n",
      " 3   indfmt    199080 non-null  object \n",
      " 4   consol    199080 non-null  object \n",
      " 5   popsrc    199080 non-null  object \n",
      " 6   datafmt   199080 non-null  object \n",
      " 7   tic       198983 non-null  object \n",
      " 8   cusip     198983 non-null  object \n",
      " 9   curcd     199080 non-null  object \n",
      " 10  at        161570 non-null  float64\n",
      " 11  ebit      160025 non-null  float64\n",
      " 12  seq       161564 non-null  float64\n",
      " 13  exchg     198983 non-null  float64\n",
      " 14  costat    199080 non-null  object \n",
      " 15  sic       199075 non-null  float64\n",
      "dtypes: float64(5), int64(2), object(9)\n",
      "memory usage: 24.3+ MB\n"
     ]
    }
   ],
   "source": [
    "# Data types\n",
    "funda_raw.info()"
   ]
  },
  {
   "cell_type": "code",
   "execution_count": 6,
   "id": "d0bbc6ee",
   "metadata": {
    "execution": {
     "iopub.execute_input": "2021-11-16T21:17:18.331889Z",
     "iopub.status.busy": "2021-11-16T21:17:18.331280Z",
     "iopub.status.idle": "2021-11-16T21:17:18.526088Z",
     "shell.execute_reply": "2021-11-16T21:17:18.526788Z"
    }
   },
   "outputs": [
    {
     "name": "stdout",
     "output_type": "stream",
     "text": [
      "Number of obs: 199080\n",
      "Number of obs after removing duplicates: 199080\n",
      "Number of obs after keeping main stock exchanges: 125063\n"
     ]
    },
    {
     "name": "stdout",
     "output_type": "stream",
     "text": [
      "Number of obs after requiring positive asset: 101899\n"
     ]
    }
   ],
   "source": [
    "funda_raw = funda_raw.sort_values(['gvkey', 'fyear', 'datadate'], ignore_index=True)\n",
    "print(f'Number of obs: {len(funda_raw)}')\n",
    "\n",
    "# Keep the most recent one if there are duplicates\n",
    "funda = funda_raw.drop_duplicates(['gvkey', 'fyear'], keep='last').copy()\n",
    "print(f'Number of obs after removing duplicates: {len(funda)}')\n",
    "\n",
    "# Keep main stock exchanges\n",
    "funda = funda[funda['exchg'].isin([11, 12, 14])].copy()\n",
    "print(f'Number of obs after keeping main stock exchanges: {len(funda)}')\n",
    "\n",
    "# Drop unnecessary variables\n",
    "drop_vars = ['indfmt', 'consol', 'popsrc', 'datafmt', 'costat', 'curcd']\n",
    "funda = funda.drop(columns=drop_vars)\n",
    "\n",
    "# Drop if total asset and equity are not positive\n",
    "funda = funda.query('at>0 & seq>0').copy()\n",
    "print(f'Number of obs after requiring positive asset: {len(funda)}')"
   ]
  },
  {
   "cell_type": "code",
   "execution_count": 7,
   "id": "8b9d6f74",
   "metadata": {
    "execution": {
     "iopub.execute_input": "2021-11-16T21:17:18.534155Z",
     "iopub.status.busy": "2021-11-16T21:17:18.533559Z",
     "iopub.status.idle": "2021-11-16T21:17:18.536128Z",
     "shell.execute_reply": "2021-11-16T21:17:18.536537Z"
    }
   },
   "outputs": [
    {
     "data": {
      "text/plain": [
       "14.0    57467\n",
       "11.0    39778\n",
       "12.0     4654\n",
       "Name: exchg, dtype: int64"
      ]
     },
     "execution_count": 7,
     "metadata": {},
     "output_type": "execute_result"
    }
   ],
   "source": [
    "funda['exchg'].value_counts()"
   ]
  },
  {
   "cell_type": "code",
   "execution_count": 8,
   "id": "43aa519d",
   "metadata": {
    "execution": {
     "iopub.execute_input": "2021-11-16T21:17:18.541026Z",
     "iopub.status.busy": "2021-11-16T21:17:18.540437Z",
     "iopub.status.idle": "2021-11-16T21:17:18.553358Z",
     "shell.execute_reply": "2021-11-16T21:17:18.553812Z"
    }
   },
   "outputs": [
    {
     "data": {
      "text/plain": [
       "12    78281\n",
       "6      5295\n",
       "9      5055\n",
       "3      4175\n",
       "1      2690\n",
       "10     1245\n",
       "4      1088\n",
       "8       918\n",
       "5       913\n",
       "7       900\n",
       "2       699\n",
       "11      640\n",
       "Name: month, dtype: int64"
      ]
     },
     "execution_count": 8,
     "metadata": {},
     "output_type": "execute_result"
    }
   ],
   "source": [
    "funda['date'] = pd.to_datetime(funda['datadate'], format='%Y%m%d')\n",
    "funda['month'] = funda['date'].dt.month\n",
    "funda['month'].value_counts()"
   ]
  },
  {
   "cell_type": "code",
   "execution_count": 9,
   "id": "fb6081db",
   "metadata": {
    "execution": {
     "iopub.execute_input": "2021-11-16T21:17:18.558375Z",
     "iopub.status.busy": "2021-11-16T21:17:18.557623Z",
     "iopub.status.idle": "2021-11-16T21:17:18.562267Z",
     "shell.execute_reply": "2021-11-16T21:17:18.562712Z"
    }
   },
   "outputs": [],
   "source": [
    "funda['roa'] = funda['ebit'] / funda['at']\n",
    "funda['roe'] = funda['ebit'] / funda['seq']"
   ]
  },
  {
   "cell_type": "code",
   "execution_count": 10,
   "id": "f77162a3",
   "metadata": {
    "execution": {
     "iopub.execute_input": "2021-11-16T21:17:18.571422Z",
     "iopub.status.busy": "2021-11-16T21:17:18.565607Z",
     "iopub.status.idle": "2021-11-16T21:17:18.631451Z",
     "shell.execute_reply": "2021-11-16T21:17:18.631943Z"
    }
   },
   "outputs": [],
   "source": [
    "funda = funda.sort_values(['gvkey', 'fyear'], ignore_index=True)\n",
    "funda['lag_at'] = funda.groupby('gvkey')['at'].shift(1)\n",
    "funda['lag_fyear'] = funda.groupby('gvkey')['fyear'].shift(1)\n",
    "funda['ag'] = funda['at'] / funda['lag_at'] - 1"
   ]
  },
  {
   "cell_type": "code",
   "execution_count": 11,
   "id": "a1c57669",
   "metadata": {
    "execution": {
     "iopub.execute_input": "2021-11-16T21:17:18.639113Z",
     "iopub.status.busy": "2021-11-16T21:17:18.636680Z",
     "iopub.status.idle": "2021-11-16T21:17:18.661350Z",
     "shell.execute_reply": "2021-11-16T21:17:18.661854Z"
    }
   },
   "outputs": [
    {
     "data": {
      "text/html": [
       "<div>\n",
       "<style scoped>\n",
       "    .dataframe tbody tr th:only-of-type {\n",
       "        vertical-align: middle;\n",
       "    }\n",
       "\n",
       "    .dataframe tbody tr th {\n",
       "        vertical-align: top;\n",
       "    }\n",
       "\n",
       "    .dataframe thead th {\n",
       "        text-align: right;\n",
       "    }\n",
       "</style>\n",
       "<table border=\"1\" class=\"dataframe\">\n",
       "  <thead>\n",
       "    <tr style=\"text-align: right;\">\n",
       "      <th></th>\n",
       "      <th>gvkey</th>\n",
       "      <th>fyear</th>\n",
       "      <th>lag_fyear</th>\n",
       "      <th>fyear_diff</th>\n",
       "      <th>ag</th>\n",
       "    </tr>\n",
       "  </thead>\n",
       "  <tbody>\n",
       "    <tr>\n",
       "      <th>42</th>\n",
       "      <td>001038</td>\n",
       "      <td>2001</td>\n",
       "      <td>1999.0</td>\n",
       "      <td>2.0</td>\n",
       "      <td>0.076013</td>\n",
       "    </tr>\n",
       "    <tr>\n",
       "      <th>49</th>\n",
       "      <td>001045</td>\n",
       "      <td>2007</td>\n",
       "      <td>2003.0</td>\n",
       "      <td>4.0</td>\n",
       "      <td>-0.025878</td>\n",
       "    </tr>\n",
       "    <tr>\n",
       "      <th>50</th>\n",
       "      <td>001045</td>\n",
       "      <td>2014</td>\n",
       "      <td>2007.0</td>\n",
       "      <td>7.0</td>\n",
       "      <td>0.532008</td>\n",
       "    </tr>\n",
       "    <tr>\n",
       "      <th>283</th>\n",
       "      <td>001161</td>\n",
       "      <td>2009</td>\n",
       "      <td>2007.0</td>\n",
       "      <td>2.0</td>\n",
       "      <td>-0.214026</td>\n",
       "    </tr>\n",
       "    <tr>\n",
       "      <th>289</th>\n",
       "      <td>001161</td>\n",
       "      <td>2016</td>\n",
       "      <td>2014.0</td>\n",
       "      <td>2.0</td>\n",
       "      <td>-0.118397</td>\n",
       "    </tr>\n",
       "  </tbody>\n",
       "</table>\n",
       "</div>"
      ],
      "text/plain": [
       "      gvkey  fyear  lag_fyear  fyear_diff        ag\n",
       "42   001038   2001     1999.0         2.0  0.076013\n",
       "49   001045   2007     2003.0         4.0 -0.025878\n",
       "50   001045   2014     2007.0         7.0  0.532008\n",
       "283  001161   2009     2007.0         2.0 -0.214026\n",
       "289  001161   2016     2014.0         2.0 -0.118397"
      ]
     },
     "execution_count": 11,
     "metadata": {},
     "output_type": "execute_result"
    }
   ],
   "source": [
    "funda['fyear_diff'] = funda['fyear'] - funda['lag_fyear']\n",
    "funda.query('fyear_diff>1')[['gvkey', 'fyear', 'lag_fyear', 'fyear_diff', 'ag']].head()"
   ]
  },
  {
   "cell_type": "code",
   "execution_count": 12,
   "id": "9ccb45d8",
   "metadata": {
    "execution": {
     "iopub.execute_input": "2021-11-16T21:17:18.666717Z",
     "iopub.status.busy": "2021-11-16T21:17:18.666019Z",
     "iopub.status.idle": "2021-11-16T21:17:18.668952Z",
     "shell.execute_reply": "2021-11-16T21:17:18.669362Z"
    }
   },
   "outputs": [],
   "source": [
    "funda.loc[funda['fyear_diff']>1, 'ag'] = np.nan"
   ]
  },
  {
   "cell_type": "code",
   "execution_count": 13,
   "id": "c25528f2",
   "metadata": {
    "execution": {
     "iopub.execute_input": "2021-11-16T21:17:18.675839Z",
     "iopub.status.busy": "2021-11-16T21:17:18.675272Z",
     "iopub.status.idle": "2021-11-16T21:17:18.698830Z",
     "shell.execute_reply": "2021-11-16T21:17:18.699352Z"
    }
   },
   "outputs": [
    {
     "data": {
      "text/html": [
       "<div>\n",
       "<style scoped>\n",
       "    .dataframe tbody tr th:only-of-type {\n",
       "        vertical-align: middle;\n",
       "    }\n",
       "\n",
       "    .dataframe tbody tr th {\n",
       "        vertical-align: top;\n",
       "    }\n",
       "\n",
       "    .dataframe thead th {\n",
       "        text-align: right;\n",
       "    }\n",
       "</style>\n",
       "<table border=\"1\" class=\"dataframe\">\n",
       "  <thead>\n",
       "    <tr style=\"text-align: right;\">\n",
       "      <th></th>\n",
       "      <th>roa</th>\n",
       "      <th>roe</th>\n",
       "      <th>ag</th>\n",
       "    </tr>\n",
       "  </thead>\n",
       "  <tbody>\n",
       "    <tr>\n",
       "      <th>count</th>\n",
       "      <td>100932.000</td>\n",
       "      <td>100932.000</td>\n",
       "      <td>90153.000</td>\n",
       "    </tr>\n",
       "    <tr>\n",
       "      <th>mean</th>\n",
       "      <td>0.012</td>\n",
       "      <td>0.105</td>\n",
       "      <td>8.231</td>\n",
       "    </tr>\n",
       "    <tr>\n",
       "      <th>std</th>\n",
       "      <td>1.601</td>\n",
       "      <td>62.213</td>\n",
       "      <td>1456.622</td>\n",
       "    </tr>\n",
       "    <tr>\n",
       "      <th>min</th>\n",
       "      <td>-44.088</td>\n",
       "      <td>-16772.000</td>\n",
       "      <td>-1.000</td>\n",
       "    </tr>\n",
       "    <tr>\n",
       "      <th>25%</th>\n",
       "      <td>0.001</td>\n",
       "      <td>0.002</td>\n",
       "      <td>-0.024</td>\n",
       "    </tr>\n",
       "    <tr>\n",
       "      <th>50%</th>\n",
       "      <td>0.043</td>\n",
       "      <td>0.139</td>\n",
       "      <td>0.060</td>\n",
       "    </tr>\n",
       "    <tr>\n",
       "      <th>75%</th>\n",
       "      <td>0.096</td>\n",
       "      <td>0.249</td>\n",
       "      <td>0.192</td>\n",
       "    </tr>\n",
       "    <tr>\n",
       "      <th>max</th>\n",
       "      <td>226.310</td>\n",
       "      <td>7305.250</td>\n",
       "      <td>409183.500</td>\n",
       "    </tr>\n",
       "  </tbody>\n",
       "</table>\n",
       "</div>"
      ],
      "text/plain": [
       "              roa         roe          ag\n",
       "count  100932.000  100932.000   90153.000\n",
       "mean        0.012       0.105       8.231\n",
       "std         1.601      62.213    1456.622\n",
       "min       -44.088  -16772.000      -1.000\n",
       "25%         0.001       0.002      -0.024\n",
       "50%         0.043       0.139       0.060\n",
       "75%         0.096       0.249       0.192\n",
       "max       226.310    7305.250  409183.500"
      ]
     },
     "execution_count": 13,
     "metadata": {},
     "output_type": "execute_result"
    }
   ],
   "source": [
    "round(funda[['roa', 'roe', 'ag']].describe(), 3)"
   ]
  },
  {
   "cell_type": "code",
   "execution_count": 14,
   "id": "c10f11a2",
   "metadata": {
    "execution": {
     "iopub.execute_input": "2021-11-16T21:17:18.706348Z",
     "iopub.status.busy": "2021-11-16T21:17:18.705472Z",
     "iopub.status.idle": "2021-11-16T21:17:18.990853Z",
     "shell.execute_reply": "2021-11-16T21:17:18.991280Z"
    }
   },
   "outputs": [
    {
     "data": {
      "text/html": [
       "<div>\n",
       "<style scoped>\n",
       "    .dataframe tbody tr th:only-of-type {\n",
       "        vertical-align: middle;\n",
       "    }\n",
       "\n",
       "    .dataframe tbody tr th {\n",
       "        vertical-align: top;\n",
       "    }\n",
       "\n",
       "    .dataframe thead th {\n",
       "        text-align: right;\n",
       "    }\n",
       "</style>\n",
       "<table border=\"1\" class=\"dataframe\">\n",
       "  <thead>\n",
       "    <tr style=\"text-align: right;\">\n",
       "      <th></th>\n",
       "      <th>roa</th>\n",
       "      <th>roe</th>\n",
       "      <th>ag</th>\n",
       "    </tr>\n",
       "  </thead>\n",
       "  <tbody>\n",
       "    <tr>\n",
       "      <th>count</th>\n",
       "      <td>100932.000</td>\n",
       "      <td>100932.000</td>\n",
       "      <td>90153.000</td>\n",
       "    </tr>\n",
       "    <tr>\n",
       "      <th>mean</th>\n",
       "      <td>-0.002</td>\n",
       "      <td>0.048</td>\n",
       "      <td>0.189</td>\n",
       "    </tr>\n",
       "    <tr>\n",
       "      <th>std</th>\n",
       "      <td>0.230</td>\n",
       "      <td>0.652</td>\n",
       "      <td>0.608</td>\n",
       "    </tr>\n",
       "    <tr>\n",
       "      <th>min</th>\n",
       "      <td>-1.645</td>\n",
       "      <td>-6.951</td>\n",
       "      <td>-0.616</td>\n",
       "    </tr>\n",
       "    <tr>\n",
       "      <th>25%</th>\n",
       "      <td>0.001</td>\n",
       "      <td>0.002</td>\n",
       "      <td>-0.024</td>\n",
       "    </tr>\n",
       "    <tr>\n",
       "      <th>50%</th>\n",
       "      <td>0.043</td>\n",
       "      <td>0.139</td>\n",
       "      <td>0.060</td>\n",
       "    </tr>\n",
       "    <tr>\n",
       "      <th>75%</th>\n",
       "      <td>0.096</td>\n",
       "      <td>0.249</td>\n",
       "      <td>0.192</td>\n",
       "    </tr>\n",
       "    <tr>\n",
       "      <th>max</th>\n",
       "      <td>0.432</td>\n",
       "      <td>2.902</td>\n",
       "      <td>10.965</td>\n",
       "    </tr>\n",
       "  </tbody>\n",
       "</table>\n",
       "</div>"
      ],
      "text/plain": [
       "              roa         roe         ag\n",
       "count  100932.000  100932.000  90153.000\n",
       "mean       -0.002       0.048      0.189\n",
       "std         0.230       0.652      0.608\n",
       "min        -1.645      -6.951     -0.616\n",
       "25%         0.001       0.002     -0.024\n",
       "50%         0.043       0.139      0.060\n",
       "75%         0.096       0.249      0.192\n",
       "max         0.432       2.902     10.965"
      ]
     },
     "execution_count": 14,
     "metadata": {},
     "output_type": "execute_result"
    }
   ],
   "source": [
    "# Winsorising at 1% and 99% percentile\n",
    "for i in ['roa', 'roe', 'ag']:\n",
    "    funda['p1'] = funda.groupby('fyear')[i].transform(lambda x: x.quantile(0.01))\n",
    "    funda['p99'] = funda.groupby('fyear')[i].transform(lambda x: x.quantile(0.99))\n",
    "    funda.loc[funda[i]<funda['p1'], i] = funda['p1']\n",
    "    funda.loc[funda[i]>funda['p99'], i] = funda['p99']\n",
    "    funda = funda.drop(columns=['p1', 'p99'])\n",
    "\n",
    "round(funda[['roa', 'roe', 'ag']].describe(), 3)"
   ]
  }
 ],
 "metadata": {
  "kernelspec": {
   "display_name": "Python3",
   "language": "python",
   "name": "python3"
  },
  "language_info": {
   "codemirror_mode": {
    "name": "ipython",
    "version": 3
   },
   "file_extension": ".py",
   "mimetype": "text/x-python",
   "name": "python",
   "nbconvert_exporter": "python",
   "pygments_lexer": "ipython3",
   "version": "3.8.12"
  }
 },
 "nbformat": 4,
 "nbformat_minor": 5
}