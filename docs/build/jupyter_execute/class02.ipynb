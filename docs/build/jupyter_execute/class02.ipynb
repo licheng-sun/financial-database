{
 "cells": [
  {
   "cell_type": "code",
   "execution_count": 1,
   "id": "d018ff7f",
   "metadata": {
    "execution": {
     "iopub.execute_input": "2021-10-05T11:51:12.995360Z",
     "iopub.status.busy": "2021-10-05T11:51:12.994324Z",
     "iopub.status.idle": "2021-10-05T11:51:13.926633Z",
     "shell.execute_reply": "2021-10-05T11:51:13.927120Z"
    }
   },
   "outputs": [],
   "source": [
    "import pandas as pd\n",
    "import numpy as np\n",
    "from pathlib import Path"
   ]
  },
  {
   "cell_type": "code",
   "execution_count": 2,
   "id": "26905092",
   "metadata": {
    "execution": {
     "iopub.execute_input": "2021-10-05T11:51:13.932151Z",
     "iopub.status.busy": "2021-10-05T11:51:13.931465Z",
     "iopub.status.idle": "2021-10-05T11:51:19.601912Z",
     "shell.execute_reply": "2021-10-05T11:51:19.602378Z"
    }
   },
   "outputs": [
    {
     "data": {
      "text/html": [
       "<div>\n",
       "<style scoped>\n",
       "    .dataframe tbody tr th:only-of-type {\n",
       "        vertical-align: middle;\n",
       "    }\n",
       "\n",
       "    .dataframe tbody tr th {\n",
       "        vertical-align: top;\n",
       "    }\n",
       "\n",
       "    .dataframe thead th {\n",
       "        text-align: right;\n",
       "    }\n",
       "</style>\n",
       "<table border=\"1\" class=\"dataframe\">\n",
       "  <thead>\n",
       "    <tr style=\"text-align: right;\">\n",
       "      <th></th>\n",
       "      <th>PERMNO</th>\n",
       "      <th>date</th>\n",
       "      <th>SHRCD</th>\n",
       "      <th>EXCHCD</th>\n",
       "      <th>SICCD</th>\n",
       "    </tr>\n",
       "  </thead>\n",
       "  <tbody>\n",
       "    <tr>\n",
       "      <th>0</th>\n",
       "      <td>10001</td>\n",
       "      <td>20110131</td>\n",
       "      <td>11.0</td>\n",
       "      <td>2.0</td>\n",
       "      <td>4925</td>\n",
       "    </tr>\n",
       "    <tr>\n",
       "      <th>1</th>\n",
       "      <td>10001</td>\n",
       "      <td>20110228</td>\n",
       "      <td>11.0</td>\n",
       "      <td>2.0</td>\n",
       "      <td>4925</td>\n",
       "    </tr>\n",
       "    <tr>\n",
       "      <th>2</th>\n",
       "      <td>10001</td>\n",
       "      <td>20110331</td>\n",
       "      <td>11.0</td>\n",
       "      <td>2.0</td>\n",
       "      <td>4925</td>\n",
       "    </tr>\n",
       "    <tr>\n",
       "      <th>3</th>\n",
       "      <td>10001</td>\n",
       "      <td>20110429</td>\n",
       "      <td>11.0</td>\n",
       "      <td>2.0</td>\n",
       "      <td>4925</td>\n",
       "    </tr>\n",
       "    <tr>\n",
       "      <th>4</th>\n",
       "      <td>10001</td>\n",
       "      <td>20110531</td>\n",
       "      <td>11.0</td>\n",
       "      <td>2.0</td>\n",
       "      <td>4925</td>\n",
       "    </tr>\n",
       "  </tbody>\n",
       "</table>\n",
       "</div>"
      ],
      "text/plain": [
       "   PERMNO      date  SHRCD  EXCHCD SICCD\n",
       "0   10001  20110131   11.0     2.0  4925\n",
       "1   10001  20110228   11.0     2.0  4925\n",
       "2   10001  20110331   11.0     2.0  4925\n",
       "3   10001  20110429   11.0     2.0  4925\n",
       "4   10001  20110531   11.0     2.0  4925"
      ]
     },
     "execution_count": 2,
     "metadata": {},
     "output_type": "execute_result"
    }
   ],
   "source": [
    "# This url contains sample data from CRSP\n",
    "url = 'https://www.dropbox.com/s/6mk86g97uji2f80/crsp_month_raw.txt?dl=1'\n",
    "crsp_raw = pd.read_csv(url, sep='\\t', low_memory=False)\n",
    "\n",
    "# View first 5 rows and first 5 columns\n",
    "crsp_raw.iloc[:5, :5]"
   ]
  },
  {
   "cell_type": "code",
   "execution_count": 3,
   "id": "71404e85",
   "metadata": {
    "execution": {
     "iopub.execute_input": "2021-10-05T11:51:19.606696Z",
     "iopub.status.busy": "2021-10-05T11:51:19.606043Z",
     "iopub.status.idle": "2021-10-05T11:51:19.608568Z",
     "shell.execute_reply": "2021-10-05T11:51:19.608973Z"
    }
   },
   "outputs": [
    {
     "data": {
      "text/plain": [
       "870692"
      ]
     },
     "execution_count": 3,
     "metadata": {},
     "output_type": "execute_result"
    }
   ],
   "source": [
    "# Observations\n",
    "len(crsp_raw)"
   ]
  },
  {
   "cell_type": "code",
   "execution_count": 4,
   "id": "ac64e0f0",
   "metadata": {
    "execution": {
     "iopub.execute_input": "2021-10-05T11:51:19.613354Z",
     "iopub.status.busy": "2021-10-05T11:51:19.612744Z",
     "iopub.status.idle": "2021-10-05T11:51:19.615296Z",
     "shell.execute_reply": "2021-10-05T11:51:19.615803Z"
    }
   },
   "outputs": [
    {
     "data": {
      "text/plain": [
       "(870692, 12)"
      ]
     },
     "execution_count": 4,
     "metadata": {},
     "output_type": "execute_result"
    }
   ],
   "source": [
    "# Number of rows and columns (variables)\n",
    "crsp_raw.shape"
   ]
  },
  {
   "cell_type": "code",
   "execution_count": 5,
   "id": "8f7a3f14",
   "metadata": {
    "execution": {
     "iopub.execute_input": "2021-10-05T11:51:19.620358Z",
     "iopub.status.busy": "2021-10-05T11:51:19.619711Z",
     "iopub.status.idle": "2021-10-05T11:51:19.621989Z",
     "shell.execute_reply": "2021-10-05T11:51:19.622487Z"
    }
   },
   "outputs": [
    {
     "data": {
      "text/plain": [
       "Index(['PERMNO', 'date', 'SHRCD', 'EXCHCD', 'SICCD', 'NCUSIP', 'PERMCO',\n",
       "       'CUSIP', 'PRC', 'RET', 'SHROUT', 'CFACPR'],\n",
       "      dtype='object')"
      ]
     },
     "execution_count": 5,
     "metadata": {},
     "output_type": "execute_result"
    }
   ],
   "source": [
    "# List all variables in the dataset\n",
    "crsp_raw.columns"
   ]
  },
  {
   "cell_type": "code",
   "execution_count": 6,
   "id": "46e359e1",
   "metadata": {
    "execution": {
     "iopub.execute_input": "2021-10-05T11:51:19.626317Z",
     "iopub.status.busy": "2021-10-05T11:51:19.625659Z",
     "iopub.status.idle": "2021-10-05T11:51:19.799040Z",
     "shell.execute_reply": "2021-10-05T11:51:19.799503Z"
    }
   },
   "outputs": [
    {
     "name": "stdout",
     "output_type": "stream",
     "text": [
      "<class 'pandas.core.frame.DataFrame'>\n",
      "RangeIndex: 870692 entries, 0 to 870691\n",
      "Data columns (total 12 columns):\n",
      " #   Column  Non-Null Count   Dtype  \n",
      "---  ------  --------------   -----  \n",
      " 0   PERMNO  870692 non-null  int64  \n",
      " 1   date    870692 non-null  int64  \n",
      " 2   SHRCD   865287 non-null  float64\n",
      " 3   EXCHCD  865287 non-null  float64\n",
      " 4   SICCD   865287 non-null  object \n",
      " 5   NCUSIP  865287 non-null  object \n",
      " 6   PERMCO  870692 non-null  int64  \n",
      " 7   CUSIP   870692 non-null  object \n",
      " 8   PRC     855391 non-null  float64\n",
      " 9   RET     860572 non-null  object \n",
      " 10  SHROUT  864704 non-null  float64\n",
      " 11  CFACPR  864704 non-null  float64\n",
      "dtypes: float64(5), int64(3), object(4)\n",
      "memory usage: 79.7+ MB\n"
     ]
    }
   ],
   "source": [
    "# Data type of variables\n",
    "crsp_raw.info()"
   ]
  },
  {
   "cell_type": "code",
   "execution_count": 7,
   "id": "38d7500a",
   "metadata": {
    "execution": {
     "iopub.execute_input": "2021-10-05T11:51:19.805280Z",
     "iopub.status.busy": "2021-10-05T11:51:19.804696Z",
     "iopub.status.idle": "2021-10-05T11:51:20.639675Z",
     "shell.execute_reply": "2021-10-05T11:51:20.640118Z"
    }
   },
   "outputs": [
    {
     "name": "stdout",
     "output_type": "stream",
     "text": [
      "<class 'pandas.core.frame.DataFrame'>\n",
      "RangeIndex: 870692 entries, 0 to 870691\n",
      "Data columns (total 12 columns):\n",
      " #   Column  Non-Null Count   Dtype         \n",
      "---  ------  --------------   -----         \n",
      " 0   permno  870692 non-null  int64         \n",
      " 1   date    870692 non-null  datetime64[ns]\n",
      " 2   shrcd   865287 non-null  float64       \n",
      " 3   exchcd  865287 non-null  float64       \n",
      " 4   siccd   865153 non-null  float64       \n",
      " 5   ncusip  865287 non-null  object        \n",
      " 6   permco  870692 non-null  int64         \n",
      " 7   cusip   870692 non-null  object        \n",
      " 8   prc     855391 non-null  float64       \n",
      " 9   ret     849541 non-null  float64       \n",
      " 10  shrout  864704 non-null  float64       \n",
      " 11  cfacpr  864704 non-null  float64       \n",
      "dtypes: datetime64[ns](1), float64(7), int64(2), object(2)\n",
      "memory usage: 79.7+ MB\n"
     ]
    }
   ],
   "source": [
    "# Rename uppercase to lowercase\n",
    "# Typing lowercase is easier than uppercase\n",
    "crsp_raw.columns = crsp_raw.columns.str.lower()\n",
    "\n",
    "# Convert data type of date to date format\n",
    "# So that we can apply date functions when manipulating dates\n",
    "crsp_raw['date'] = pd.to_datetime(crsp_raw['date'], format='%Y%m%d')\n",
    "\n",
    "# Convert data type of ret to numerical value\n",
    "# Stock return should be numerical values rather than string\n",
    "# For example,\n",
    "#  string: '1' + '2' = '12'\n",
    "#  numerical: 1 + 2 = 3\n",
    "crsp_raw['ret'] = pd.to_numeric(crsp_raw['ret'], errors='coerce')\n",
    "\n",
    "# Convert siccd to numerical value\n",
    "crsp_raw['siccd'] = pd.to_numeric(crsp_raw['siccd'], errors='coerce')\n",
    "\n",
    "crsp_raw.info()"
   ]
  },
  {
   "cell_type": "code",
   "execution_count": 8,
   "id": "3825acd8",
   "metadata": {
    "execution": {
     "iopub.execute_input": "2021-10-05T11:51:20.644669Z",
     "iopub.status.busy": "2021-10-05T11:51:20.644086Z",
     "iopub.status.idle": "2021-10-05T11:51:20.867674Z",
     "shell.execute_reply": "2021-10-05T11:51:20.868104Z"
    }
   },
   "outputs": [
    {
     "data": {
      "text/plain": [
       "444358"
      ]
     },
     "execution_count": 8,
     "metadata": {},
     "output_type": "execute_result"
    }
   ],
   "source": [
    "crsp = crsp_raw.copy()\n",
    "\n",
    "# Keep NYSE/AMEX/NASDAQ\n",
    "crsp = crsp[crsp['exchcd'].isin([1, 2, 3])]\n",
    "\n",
    "# Keep common shares\n",
    "crsp = crsp[crsp['shrcd'].isin([10, 11])]\n",
    "\n",
    "# Convert shrcd and exchcd to int\n",
    "crsp[['exchcd', 'shrcd']] = crsp[['exchcd', 'shrcd']].astype(int)\n",
    "\n",
    "len(crsp)"
   ]
  },
  {
   "cell_type": "code",
   "execution_count": 9,
   "id": "6a9bcb9f",
   "metadata": {
    "execution": {
     "iopub.execute_input": "2021-10-05T11:51:20.873012Z",
     "iopub.status.busy": "2021-10-05T11:51:20.872386Z",
     "iopub.status.idle": "2021-10-05T11:51:20.952800Z",
     "shell.execute_reply": "2021-10-05T11:51:20.953330Z"
    }
   },
   "outputs": [
    {
     "data": {
      "text/plain": [
       "444358"
      ]
     },
     "execution_count": 9,
     "metadata": {},
     "output_type": "execute_result"
    }
   ],
   "source": [
    "crsp = crsp.drop_duplicates(['permno', 'date'])\n",
    "len(crsp)"
   ]
  },
  {
   "cell_type": "code",
   "execution_count": 10,
   "id": "e2974f9c",
   "metadata": {
    "execution": {
     "iopub.execute_input": "2021-10-05T11:51:20.957574Z",
     "iopub.status.busy": "2021-10-05T11:51:20.956838Z",
     "iopub.status.idle": "2021-10-05T11:51:21.032330Z",
     "shell.execute_reply": "2021-10-05T11:51:21.032771Z"
    }
   },
   "outputs": [
    {
     "name": "stdout",
     "output_type": "stream",
     "text": [
      "<class 'pandas.core.frame.DataFrame'>\n",
      "Int64Index: 444358 entries, 0 to 870691\n",
      "Data columns (total 12 columns):\n",
      " #   Column  Non-Null Count   Dtype         \n",
      "---  ------  --------------   -----         \n",
      " 0   permno  444358 non-null  int64         \n",
      " 1   date    444358 non-null  datetime64[ns]\n",
      " 2   shrcd   444358 non-null  category      \n",
      " 3   exchcd  444358 non-null  category      \n",
      " 4   siccd   444256 non-null  float64       \n",
      " 5   ncusip  444358 non-null  object        \n",
      " 6   permco  444358 non-null  int64         \n",
      " 7   cusip   444358 non-null  object        \n",
      " 8   prc     441959 non-null  float64       \n",
      " 9   ret     439721 non-null  float64       \n",
      " 10  shrout  444036 non-null  float64       \n",
      " 11  cfacpr  444036 non-null  float64       \n",
      "dtypes: category(2), datetime64[ns](1), float64(5), int64(2), object(2)\n",
      "memory usage: 38.1+ MB\n"
     ]
    }
   ],
   "source": [
    "temp = crsp.copy()\n",
    "# Convert shrcd and exchcd to category\n",
    "temp[['exchcd', 'shrcd']] = temp[['exchcd', 'shrcd']].astype('category')\n",
    "temp.info()"
   ]
  },
  {
   "cell_type": "code",
   "execution_count": 11,
   "id": "946c2c75",
   "metadata": {
    "execution": {
     "iopub.execute_input": "2021-10-05T11:51:21.044539Z",
     "iopub.status.busy": "2021-10-05T11:51:21.043725Z",
     "iopub.status.idle": "2021-10-05T11:51:24.081478Z",
     "shell.execute_reply": "2021-10-05T11:51:24.082143Z"
    }
   },
   "outputs": [],
   "source": [
    "# If you want to import from local\n",
    "# file_path = Path('/Users/ml/Dropbox/teaching/data/crsp_month.txt')\n",
    "# crsp = pd.read_csv(file_path, sep='\\t', parse_dates=['date'])\n",
    "\n",
    "# Import from url\n",
    "url = 'https://www.dropbox.com/s/0nuxwo3cf7vfcy3/crsp_month.txt?dl=1'\n",
    "crsp = pd.read_csv(url, sep='\\t', parse_dates=['date'])"
   ]
  },
  {
   "cell_type": "code",
   "execution_count": 12,
   "id": "c87171e4",
   "metadata": {
    "execution": {
     "iopub.execute_input": "2021-10-05T11:51:24.100001Z",
     "iopub.status.busy": "2021-10-05T11:51:24.091726Z",
     "iopub.status.idle": "2021-10-05T11:51:25.161233Z",
     "shell.execute_reply": "2021-10-05T11:51:25.161701Z"
    }
   },
   "outputs": [],
   "source": [
    "# Market value\n",
    "crsp['price'] = crsp['prc'].abs()\n",
    "crsp['me'] = (crsp['price']*crsp['shrout']) / 1000\n",
    "crsp['lnme'] = np.log(crsp['me'])\n",
    "\n",
    "# Adjusted price\n",
    "crsp.loc[crsp['cfacpr']>0, 'adjprc'] = crsp['price'] / crsp['cfacpr']\n",
    "\n",
    "# Holding period returns\n",
    "crsp['yyyymm'] = crsp['date'].dt.year*100 + crsp['date'].dt.month\n",
    "\n",
    "# Monthly index\n",
    "# From 1 to n\n",
    "# For example, month index will be from 1 to 120 if we have 120 months data\n",
    "month_idx = crsp.drop_duplicates('yyyymm')[['yyyymm']].copy()\n",
    "month_idx = month_idx.sort_values('yyyymm', ignore_index=True)\n",
    "month_idx['midx'] = month_idx.index + 1\n",
    "\n",
    "crsp = crsp.merge(month_idx, how='left', on='yyyymm')\n",
    "\n",
    "# Past 6-month returns\n",
    "crsp['logret'] = np.log(crsp['ret']+1)\n",
    "crsp = crsp.sort_values(['permno', 'yyyymm'], ignore_index=True)\n",
    "crsp['hpr'] = (crsp.groupby('permno')['logret']\n",
    "  .rolling(window=6, min_periods=6).sum().reset_index(drop=True))\n",
    "crsp['hpr'] = np.exp(crsp['hpr']) - 1\n",
    "\n",
    "crsp['midx_lag'] = crsp.groupby('permno')['midx'].shift(5)\n",
    "crsp['gap'] = crsp['midx'] - crsp['midx_lag']\n",
    "\n",
    "temp1 = crsp.query('permno==10028 & 201107<=yyyymm<=201212').copy()\n",
    "\n",
    "# Replace it by missing if there is month gap.\n",
    "crsp.loc[crsp['gap']!=5, 'hpr'] = np.nan\n",
    "\n",
    "temp2 = crsp.query('permno==10028 & 201107<=yyyymm<=201212').copy()"
   ]
  },
  {
   "cell_type": "code",
   "execution_count": 13,
   "id": "456d5fb3",
   "metadata": {
    "execution": {
     "iopub.execute_input": "2021-10-05T11:51:25.173633Z",
     "iopub.status.busy": "2021-10-05T11:51:25.172876Z",
     "iopub.status.idle": "2021-10-05T11:51:25.175668Z",
     "shell.execute_reply": "2021-10-05T11:51:25.176108Z"
    }
   },
   "outputs": [
    {
     "data": {
      "text/html": [
       "<div>\n",
       "<style scoped>\n",
       "    .dataframe tbody tr th:only-of-type {\n",
       "        vertical-align: middle;\n",
       "    }\n",
       "\n",
       "    .dataframe tbody tr th {\n",
       "        vertical-align: top;\n",
       "    }\n",
       "\n",
       "    .dataframe thead th {\n",
       "        text-align: right;\n",
       "    }\n",
       "</style>\n",
       "<table border=\"1\" class=\"dataframe\">\n",
       "  <thead>\n",
       "    <tr style=\"text-align: right;\">\n",
       "      <th></th>\n",
       "      <th>permno</th>\n",
       "      <th>yyyymm</th>\n",
       "      <th>midx</th>\n",
       "      <th>midx_lag</th>\n",
       "      <th>gap</th>\n",
       "      <th>ret</th>\n",
       "      <th>hpr</th>\n",
       "    </tr>\n",
       "  </thead>\n",
       "  <tbody>\n",
       "    <tr>\n",
       "      <th>305</th>\n",
       "      <td>10028</td>\n",
       "      <td>201107</td>\n",
       "      <td>7</td>\n",
       "      <td>2.0</td>\n",
       "      <td>5.0</td>\n",
       "      <td>0.247887</td>\n",
       "      <td>1.004524</td>\n",
       "    </tr>\n",
       "    <tr>\n",
       "      <th>306</th>\n",
       "      <td>10028</td>\n",
       "      <td>201108</td>\n",
       "      <td>8</td>\n",
       "      <td>3.0</td>\n",
       "      <td>5.0</td>\n",
       "      <td>-0.032731</td>\n",
       "      <td>1.056241</td>\n",
       "    </tr>\n",
       "    <tr>\n",
       "      <th>307</th>\n",
       "      <td>10028</td>\n",
       "      <td>201109</td>\n",
       "      <td>9</td>\n",
       "      <td>4.0</td>\n",
       "      <td>5.0</td>\n",
       "      <td>-0.054842</td>\n",
       "      <td>0.588236</td>\n",
       "    </tr>\n",
       "    <tr>\n",
       "      <th>308</th>\n",
       "      <td>10028</td>\n",
       "      <td>201110</td>\n",
       "      <td>10</td>\n",
       "      <td>5.0</td>\n",
       "      <td>5.0</td>\n",
       "      <td>0.029630</td>\n",
       "      <td>0.437932</td>\n",
       "    </tr>\n",
       "    <tr>\n",
       "      <th>309</th>\n",
       "      <td>10028</td>\n",
       "      <td>201111</td>\n",
       "      <td>11</td>\n",
       "      <td>6.0</td>\n",
       "      <td>5.0</td>\n",
       "      <td>-0.070743</td>\n",
       "      <td>0.347828</td>\n",
       "    </tr>\n",
       "    <tr>\n",
       "      <th>310</th>\n",
       "      <td>10028</td>\n",
       "      <td>201112</td>\n",
       "      <td>12</td>\n",
       "      <td>7.0</td>\n",
       "      <td>5.0</td>\n",
       "      <td>-0.036129</td>\n",
       "      <td>0.052114</td>\n",
       "    </tr>\n",
       "    <tr>\n",
       "      <th>311</th>\n",
       "      <td>10028</td>\n",
       "      <td>201201</td>\n",
       "      <td>13</td>\n",
       "      <td>8.0</td>\n",
       "      <td>5.0</td>\n",
       "      <td>-0.026774</td>\n",
       "      <td>-0.179457</td>\n",
       "    </tr>\n",
       "    <tr>\n",
       "      <th>312</th>\n",
       "      <td>10028</td>\n",
       "      <td>201202</td>\n",
       "      <td>14</td>\n",
       "      <td>9.0</td>\n",
       "      <td>5.0</td>\n",
       "      <td>0.081155</td>\n",
       "      <td>-0.082847</td>\n",
       "    </tr>\n",
       "    <tr>\n",
       "      <th>313</th>\n",
       "      <td>10028</td>\n",
       "      <td>201203</td>\n",
       "      <td>15</td>\n",
       "      <td>10.0</td>\n",
       "      <td>5.0</td>\n",
       "      <td>-0.048346</td>\n",
       "      <td>-0.076543</td>\n",
       "    </tr>\n",
       "    <tr>\n",
       "      <th>314</th>\n",
       "      <td>10028</td>\n",
       "      <td>201211</td>\n",
       "      <td>23</td>\n",
       "      <td>11.0</td>\n",
       "      <td>12.0</td>\n",
       "      <td>-0.246524</td>\n",
       "      <td>-0.324221</td>\n",
       "    </tr>\n",
       "    <tr>\n",
       "      <th>315</th>\n",
       "      <td>10028</td>\n",
       "      <td>201212</td>\n",
       "      <td>24</td>\n",
       "      <td>12.0</td>\n",
       "      <td>12.0</td>\n",
       "      <td>-0.036551</td>\n",
       "      <td>-0.299355</td>\n",
       "    </tr>\n",
       "  </tbody>\n",
       "</table>\n",
       "</div>"
      ],
      "text/plain": [
       "     permno  yyyymm  midx  midx_lag   gap       ret       hpr\n",
       "305   10028  201107     7       2.0   5.0  0.247887  1.004524\n",
       "306   10028  201108     8       3.0   5.0 -0.032731  1.056241\n",
       "307   10028  201109     9       4.0   5.0 -0.054842  0.588236\n",
       "308   10028  201110    10       5.0   5.0  0.029630  0.437932\n",
       "309   10028  201111    11       6.0   5.0 -0.070743  0.347828\n",
       "310   10028  201112    12       7.0   5.0 -0.036129  0.052114\n",
       "311   10028  201201    13       8.0   5.0 -0.026774 -0.179457\n",
       "312   10028  201202    14       9.0   5.0  0.081155 -0.082847\n",
       "313   10028  201203    15      10.0   5.0 -0.048346 -0.076543\n",
       "314   10028  201211    23      11.0  12.0 -0.246524 -0.324221\n",
       "315   10028  201212    24      12.0  12.0 -0.036551 -0.299355"
      ]
     },
     "execution_count": 13,
     "metadata": {},
     "output_type": "execute_result"
    }
   ],
   "source": [
    "temp1[['permno', 'yyyymm', 'midx', 'midx_lag', 'gap', 'ret', 'hpr']]"
   ]
  },
  {
   "cell_type": "code",
   "execution_count": 14,
   "id": "12c25883",
   "metadata": {
    "execution": {
     "iopub.execute_input": "2021-10-05T11:51:25.187489Z",
     "iopub.status.busy": "2021-10-05T11:51:25.186647Z",
     "iopub.status.idle": "2021-10-05T11:51:25.189432Z",
     "shell.execute_reply": "2021-10-05T11:51:25.189969Z"
    }
   },
   "outputs": [
    {
     "data": {
      "text/html": [
       "<div>\n",
       "<style scoped>\n",
       "    .dataframe tbody tr th:only-of-type {\n",
       "        vertical-align: middle;\n",
       "    }\n",
       "\n",
       "    .dataframe tbody tr th {\n",
       "        vertical-align: top;\n",
       "    }\n",
       "\n",
       "    .dataframe thead th {\n",
       "        text-align: right;\n",
       "    }\n",
       "</style>\n",
       "<table border=\"1\" class=\"dataframe\">\n",
       "  <thead>\n",
       "    <tr style=\"text-align: right;\">\n",
       "      <th></th>\n",
       "      <th>permno</th>\n",
       "      <th>yyyymm</th>\n",
       "      <th>midx</th>\n",
       "      <th>midx_lag</th>\n",
       "      <th>gap</th>\n",
       "      <th>ret</th>\n",
       "      <th>hpr</th>\n",
       "    </tr>\n",
       "  </thead>\n",
       "  <tbody>\n",
       "    <tr>\n",
       "      <th>305</th>\n",
       "      <td>10028</td>\n",
       "      <td>201107</td>\n",
       "      <td>7</td>\n",
       "      <td>2.0</td>\n",
       "      <td>5.0</td>\n",
       "      <td>0.247887</td>\n",
       "      <td>1.004524</td>\n",
       "    </tr>\n",
       "    <tr>\n",
       "      <th>306</th>\n",
       "      <td>10028</td>\n",
       "      <td>201108</td>\n",
       "      <td>8</td>\n",
       "      <td>3.0</td>\n",
       "      <td>5.0</td>\n",
       "      <td>-0.032731</td>\n",
       "      <td>1.056241</td>\n",
       "    </tr>\n",
       "    <tr>\n",
       "      <th>307</th>\n",
       "      <td>10028</td>\n",
       "      <td>201109</td>\n",
       "      <td>9</td>\n",
       "      <td>4.0</td>\n",
       "      <td>5.0</td>\n",
       "      <td>-0.054842</td>\n",
       "      <td>0.588236</td>\n",
       "    </tr>\n",
       "    <tr>\n",
       "      <th>308</th>\n",
       "      <td>10028</td>\n",
       "      <td>201110</td>\n",
       "      <td>10</td>\n",
       "      <td>5.0</td>\n",
       "      <td>5.0</td>\n",
       "      <td>0.029630</td>\n",
       "      <td>0.437932</td>\n",
       "    </tr>\n",
       "    <tr>\n",
       "      <th>309</th>\n",
       "      <td>10028</td>\n",
       "      <td>201111</td>\n",
       "      <td>11</td>\n",
       "      <td>6.0</td>\n",
       "      <td>5.0</td>\n",
       "      <td>-0.070743</td>\n",
       "      <td>0.347828</td>\n",
       "    </tr>\n",
       "    <tr>\n",
       "      <th>310</th>\n",
       "      <td>10028</td>\n",
       "      <td>201112</td>\n",
       "      <td>12</td>\n",
       "      <td>7.0</td>\n",
       "      <td>5.0</td>\n",
       "      <td>-0.036129</td>\n",
       "      <td>0.052114</td>\n",
       "    </tr>\n",
       "    <tr>\n",
       "      <th>311</th>\n",
       "      <td>10028</td>\n",
       "      <td>201201</td>\n",
       "      <td>13</td>\n",
       "      <td>8.0</td>\n",
       "      <td>5.0</td>\n",
       "      <td>-0.026774</td>\n",
       "      <td>-0.179457</td>\n",
       "    </tr>\n",
       "    <tr>\n",
       "      <th>312</th>\n",
       "      <td>10028</td>\n",
       "      <td>201202</td>\n",
       "      <td>14</td>\n",
       "      <td>9.0</td>\n",
       "      <td>5.0</td>\n",
       "      <td>0.081155</td>\n",
       "      <td>-0.082847</td>\n",
       "    </tr>\n",
       "    <tr>\n",
       "      <th>313</th>\n",
       "      <td>10028</td>\n",
       "      <td>201203</td>\n",
       "      <td>15</td>\n",
       "      <td>10.0</td>\n",
       "      <td>5.0</td>\n",
       "      <td>-0.048346</td>\n",
       "      <td>-0.076543</td>\n",
       "    </tr>\n",
       "    <tr>\n",
       "      <th>314</th>\n",
       "      <td>10028</td>\n",
       "      <td>201211</td>\n",
       "      <td>23</td>\n",
       "      <td>11.0</td>\n",
       "      <td>12.0</td>\n",
       "      <td>-0.246524</td>\n",
       "      <td>NaN</td>\n",
       "    </tr>\n",
       "    <tr>\n",
       "      <th>315</th>\n",
       "      <td>10028</td>\n",
       "      <td>201212</td>\n",
       "      <td>24</td>\n",
       "      <td>12.0</td>\n",
       "      <td>12.0</td>\n",
       "      <td>-0.036551</td>\n",
       "      <td>NaN</td>\n",
       "    </tr>\n",
       "  </tbody>\n",
       "</table>\n",
       "</div>"
      ],
      "text/plain": [
       "     permno  yyyymm  midx  midx_lag   gap       ret       hpr\n",
       "305   10028  201107     7       2.0   5.0  0.247887  1.004524\n",
       "306   10028  201108     8       3.0   5.0 -0.032731  1.056241\n",
       "307   10028  201109     9       4.0   5.0 -0.054842  0.588236\n",
       "308   10028  201110    10       5.0   5.0  0.029630  0.437932\n",
       "309   10028  201111    11       6.0   5.0 -0.070743  0.347828\n",
       "310   10028  201112    12       7.0   5.0 -0.036129  0.052114\n",
       "311   10028  201201    13       8.0   5.0 -0.026774 -0.179457\n",
       "312   10028  201202    14       9.0   5.0  0.081155 -0.082847\n",
       "313   10028  201203    15      10.0   5.0 -0.048346 -0.076543\n",
       "314   10028  201211    23      11.0  12.0 -0.246524       NaN\n",
       "315   10028  201212    24      12.0  12.0 -0.036551       NaN"
      ]
     },
     "execution_count": 14,
     "metadata": {},
     "output_type": "execute_result"
    }
   ],
   "source": [
    "temp2[['permno', 'yyyymm', 'midx', 'midx_lag', 'gap', 'ret', 'hpr']]"
   ]
  },
  {
   "cell_type": "code",
   "execution_count": 15,
   "id": "b0415146",
   "metadata": {
    "execution": {
     "iopub.execute_input": "2021-10-05T11:51:25.200796Z",
     "iopub.status.busy": "2021-10-05T11:51:25.200163Z",
     "iopub.status.idle": "2021-10-05T11:51:25.232361Z",
     "shell.execute_reply": "2021-10-05T11:51:25.232814Z"
    }
   },
   "outputs": [
    {
     "data": {
      "text/html": [
       "<div>\n",
       "<style scoped>\n",
       "    .dataframe tbody tr th:only-of-type {\n",
       "        vertical-align: middle;\n",
       "    }\n",
       "\n",
       "    .dataframe tbody tr th {\n",
       "        vertical-align: top;\n",
       "    }\n",
       "\n",
       "    .dataframe thead th {\n",
       "        text-align: right;\n",
       "    }\n",
       "</style>\n",
       "<table border=\"1\" class=\"dataframe\">\n",
       "  <thead>\n",
       "    <tr style=\"text-align: right;\">\n",
       "      <th></th>\n",
       "      <th>ret</th>\n",
       "      <th>lnme</th>\n",
       "    </tr>\n",
       "  </thead>\n",
       "  <tbody>\n",
       "    <tr>\n",
       "      <th>count</th>\n",
       "      <td>439721.000000</td>\n",
       "      <td>441959.000000</td>\n",
       "    </tr>\n",
       "    <tr>\n",
       "      <th>mean</th>\n",
       "      <td>0.011124</td>\n",
       "      <td>6.421212</td>\n",
       "    </tr>\n",
       "    <tr>\n",
       "      <th>std</th>\n",
       "      <td>0.177839</td>\n",
       "      <td>2.155586</td>\n",
       "    </tr>\n",
       "    <tr>\n",
       "      <th>min</th>\n",
       "      <td>-0.993600</td>\n",
       "      <td>-2.426619</td>\n",
       "    </tr>\n",
       "    <tr>\n",
       "      <th>25%</th>\n",
       "      <td>-0.058187</td>\n",
       "      <td>4.866619</td>\n",
       "    </tr>\n",
       "    <tr>\n",
       "      <th>50%</th>\n",
       "      <td>0.004907</td>\n",
       "      <td>6.397188</td>\n",
       "    </tr>\n",
       "    <tr>\n",
       "      <th>75%</th>\n",
       "      <td>0.066725</td>\n",
       "      <td>7.890045</td>\n",
       "    </tr>\n",
       "    <tr>\n",
       "      <th>max</th>\n",
       "      <td>19.883589</td>\n",
       "      <td>14.629090</td>\n",
       "    </tr>\n",
       "  </tbody>\n",
       "</table>\n",
       "</div>"
      ],
      "text/plain": [
       "                 ret           lnme\n",
       "count  439721.000000  441959.000000\n",
       "mean        0.011124       6.421212\n",
       "std         0.177839       2.155586\n",
       "min        -0.993600      -2.426619\n",
       "25%        -0.058187       4.866619\n",
       "50%         0.004907       6.397188\n",
       "75%         0.066725       7.890045\n",
       "max        19.883589      14.629090"
      ]
     },
     "execution_count": 15,
     "metadata": {},
     "output_type": "execute_result"
    }
   ],
   "source": [
    "crsp[['ret', 'lnme']].describe()"
   ]
  },
  {
   "cell_type": "code",
   "execution_count": 16,
   "id": "266257b8",
   "metadata": {
    "execution": {
     "iopub.execute_input": "2021-10-05T11:51:25.242003Z",
     "iopub.status.busy": "2021-10-05T11:51:25.241393Z",
     "iopub.status.idle": "2021-10-05T11:51:25.272830Z",
     "shell.execute_reply": "2021-10-05T11:51:25.272352Z"
    }
   },
   "outputs": [
    {
     "data": {
      "text/html": [
       "<div>\n",
       "<style scoped>\n",
       "    .dataframe tbody tr th:only-of-type {\n",
       "        vertical-align: middle;\n",
       "    }\n",
       "\n",
       "    .dataframe tbody tr th {\n",
       "        vertical-align: top;\n",
       "    }\n",
       "\n",
       "    .dataframe thead th {\n",
       "        text-align: right;\n",
       "    }\n",
       "</style>\n",
       "<table border=\"1\" class=\"dataframe\">\n",
       "  <thead>\n",
       "    <tr style=\"text-align: right;\">\n",
       "      <th></th>\n",
       "      <th>ret</th>\n",
       "      <th>lnme</th>\n",
       "    </tr>\n",
       "  </thead>\n",
       "  <tbody>\n",
       "    <tr>\n",
       "      <th>count</th>\n",
       "      <td>439721.000000</td>\n",
       "      <td>441959.000000</td>\n",
       "    </tr>\n",
       "    <tr>\n",
       "      <th>mean</th>\n",
       "      <td>0.011124</td>\n",
       "      <td>6.421212</td>\n",
       "    </tr>\n",
       "    <tr>\n",
       "      <th>std</th>\n",
       "      <td>0.177839</td>\n",
       "      <td>2.155586</td>\n",
       "    </tr>\n",
       "    <tr>\n",
       "      <th>min</th>\n",
       "      <td>-0.993600</td>\n",
       "      <td>-2.426619</td>\n",
       "    </tr>\n",
       "    <tr>\n",
       "      <th>10%</th>\n",
       "      <td>-0.140673</td>\n",
       "      <td>3.625798</td>\n",
       "    </tr>\n",
       "    <tr>\n",
       "      <th>50%</th>\n",
       "      <td>0.004907</td>\n",
       "      <td>6.397188</td>\n",
       "    </tr>\n",
       "    <tr>\n",
       "      <th>90%</th>\n",
       "      <td>0.152479</td>\n",
       "      <td>9.241648</td>\n",
       "    </tr>\n",
       "    <tr>\n",
       "      <th>max</th>\n",
       "      <td>19.883589</td>\n",
       "      <td>14.629090</td>\n",
       "    </tr>\n",
       "  </tbody>\n",
       "</table>\n",
       "</div>"
      ],
      "text/plain": [
       "                 ret           lnme\n",
       "count  439721.000000  441959.000000\n",
       "mean        0.011124       6.421212\n",
       "std         0.177839       2.155586\n",
       "min        -0.993600      -2.426619\n",
       "10%        -0.140673       3.625798\n",
       "50%         0.004907       6.397188\n",
       "90%         0.152479       9.241648\n",
       "max        19.883589      14.629090"
      ]
     },
     "execution_count": 16,
     "metadata": {},
     "output_type": "execute_result"
    }
   ],
   "source": [
    "# Percentiles\n",
    "crsp[['ret', 'lnme']].describe(percentiles=[0.1, 0.9])"
   ]
  },
  {
   "cell_type": "code",
   "execution_count": 17,
   "id": "a906282e",
   "metadata": {
    "execution": {
     "iopub.execute_input": "2021-10-05T11:51:25.276966Z",
     "iopub.status.busy": "2021-10-05T11:51:25.276415Z",
     "iopub.status.idle": "2021-10-05T11:51:25.416325Z",
     "shell.execute_reply": "2021-10-05T11:51:25.416793Z"
    }
   },
   "outputs": [
    {
     "data": {
      "text/html": [
       "<div>\n",
       "<style scoped>\n",
       "    .dataframe tbody tr th:only-of-type {\n",
       "        vertical-align: middle;\n",
       "    }\n",
       "\n",
       "    .dataframe tbody tr th {\n",
       "        vertical-align: top;\n",
       "    }\n",
       "\n",
       "    .dataframe thead tr th {\n",
       "        text-align: left;\n",
       "    }\n",
       "\n",
       "    .dataframe thead tr:last-of-type th {\n",
       "        text-align: right;\n",
       "    }\n",
       "</style>\n",
       "<table border=\"1\" class=\"dataframe\">\n",
       "  <thead>\n",
       "    <tr>\n",
       "      <th></th>\n",
       "      <th>ret</th>\n",
       "      <th>lnme</th>\n",
       "      <th>ret</th>\n",
       "      <th>lnme</th>\n",
       "      <th>ret</th>\n",
       "      <th>lnme</th>\n",
       "    </tr>\n",
       "    <tr>\n",
       "      <th></th>\n",
       "      <th>mean</th>\n",
       "      <th>mean</th>\n",
       "      <th>50%</th>\n",
       "      <th>50%</th>\n",
       "      <th>std</th>\n",
       "      <th>std</th>\n",
       "    </tr>\n",
       "    <tr>\n",
       "      <th>year</th>\n",
       "      <th></th>\n",
       "      <th></th>\n",
       "      <th></th>\n",
       "      <th></th>\n",
       "      <th></th>\n",
       "      <th></th>\n",
       "    </tr>\n",
       "  </thead>\n",
       "  <tbody>\n",
       "    <tr>\n",
       "      <th>2011</th>\n",
       "      <td>-0.0064</td>\n",
       "      <td>6.0642</td>\n",
       "      <td>-0.0089</td>\n",
       "      <td>6.0190</td>\n",
       "      <td>0.1486</td>\n",
       "      <td>2.0849</td>\n",
       "    </tr>\n",
       "    <tr>\n",
       "      <th>2012</th>\n",
       "      <td>0.0161</td>\n",
       "      <td>6.1141</td>\n",
       "      <td>0.0102</td>\n",
       "      <td>6.0783</td>\n",
       "      <td>0.1459</td>\n",
       "      <td>2.0934</td>\n",
       "    </tr>\n",
       "    <tr>\n",
       "      <th>2013</th>\n",
       "      <td>0.0325</td>\n",
       "      <td>6.3779</td>\n",
       "      <td>0.0228</td>\n",
       "      <td>6.3643</td>\n",
       "      <td>0.1331</td>\n",
       "      <td>2.0869</td>\n",
       "    </tr>\n",
       "    <tr>\n",
       "      <th>2014</th>\n",
       "      <td>0.0041</td>\n",
       "      <td>6.5273</td>\n",
       "      <td>0.0026</td>\n",
       "      <td>6.4729</td>\n",
       "      <td>0.1388</td>\n",
       "      <td>2.0568</td>\n",
       "    </tr>\n",
       "    <tr>\n",
       "      <th>2015</th>\n",
       "      <td>-0.0048</td>\n",
       "      <td>6.4665</td>\n",
       "      <td>-0.0062</td>\n",
       "      <td>6.4348</td>\n",
       "      <td>0.1783</td>\n",
       "      <td>2.1173</td>\n",
       "    </tr>\n",
       "    <tr>\n",
       "      <th>2016</th>\n",
       "      <td>0.0155</td>\n",
       "      <td>6.3939</td>\n",
       "      <td>0.0091</td>\n",
       "      <td>6.3736</td>\n",
       "      <td>0.1734</td>\n",
       "      <td>2.1637</td>\n",
       "    </tr>\n",
       "    <tr>\n",
       "      <th>2017</th>\n",
       "      <td>0.0134</td>\n",
       "      <td>6.5546</td>\n",
       "      <td>0.0066</td>\n",
       "      <td>6.5825</td>\n",
       "      <td>0.1531</td>\n",
       "      <td>2.1840</td>\n",
       "    </tr>\n",
       "    <tr>\n",
       "      <th>2018</th>\n",
       "      <td>-0.0120</td>\n",
       "      <td>6.6320</td>\n",
       "      <td>-0.0089</td>\n",
       "      <td>6.6748</td>\n",
       "      <td>0.1615</td>\n",
       "      <td>2.1934</td>\n",
       "    </tr>\n",
       "    <tr>\n",
       "      <th>2019</th>\n",
       "      <td>0.0197</td>\n",
       "      <td>6.5616</td>\n",
       "      <td>0.0137</td>\n",
       "      <td>6.5667</td>\n",
       "      <td>0.2078</td>\n",
       "      <td>2.2513</td>\n",
       "    </tr>\n",
       "    <tr>\n",
       "      <th>2020</th>\n",
       "      <td>0.0346</td>\n",
       "      <td>6.5497</td>\n",
       "      <td>0.0095</td>\n",
       "      <td>6.4663</td>\n",
       "      <td>0.2837</td>\n",
       "      <td>2.2452</td>\n",
       "    </tr>\n",
       "  </tbody>\n",
       "</table>\n",
       "</div>"
      ],
      "text/plain": [
       "         ret    lnme     ret    lnme     ret    lnme\n",
       "        mean    mean     50%     50%     std     std\n",
       "year                                                \n",
       "2011 -0.0064  6.0642 -0.0089  6.0190  0.1486  2.0849\n",
       "2012  0.0161  6.1141  0.0102  6.0783  0.1459  2.0934\n",
       "2013  0.0325  6.3779  0.0228  6.3643  0.1331  2.0869\n",
       "2014  0.0041  6.5273  0.0026  6.4729  0.1388  2.0568\n",
       "2015 -0.0048  6.4665 -0.0062  6.4348  0.1783  2.1173\n",
       "2016  0.0155  6.3939  0.0091  6.3736  0.1734  2.1637\n",
       "2017  0.0134  6.5546  0.0066  6.5825  0.1531  2.1840\n",
       "2018 -0.0120  6.6320 -0.0089  6.6748  0.1615  2.1934\n",
       "2019  0.0197  6.5616  0.0137  6.5667  0.2078  2.2513\n",
       "2020  0.0346  6.5497  0.0095  6.4663  0.2837  2.2452"
      ]
     },
     "execution_count": 17,
     "metadata": {},
     "output_type": "execute_result"
    }
   ],
   "source": [
    "# Summary statistics by year\n",
    "crsp['year'] = crsp['date'].dt.year\n",
    "round(crsp.groupby('year')[['ret', 'lnme']].describe()\n",
    ".loc[:, (slice(None), ['mean', '50%', 'std'])], 4)"
   ]
  },
  {
   "cell_type": "code",
   "execution_count": 18,
   "id": "d88c3aa0",
   "metadata": {
    "execution": {
     "iopub.execute_input": "2021-10-05T11:51:25.423888Z",
     "iopub.status.busy": "2021-10-05T11:51:25.423300Z",
     "iopub.status.idle": "2021-10-05T11:51:25.498766Z",
     "shell.execute_reply": "2021-10-05T11:51:25.499316Z"
    }
   },
   "outputs": [
    {
     "data": {
      "text/html": [
       "<div>\n",
       "<style scoped>\n",
       "    .dataframe tbody tr th:only-of-type {\n",
       "        vertical-align: middle;\n",
       "    }\n",
       "\n",
       "    .dataframe tbody tr th {\n",
       "        vertical-align: top;\n",
       "    }\n",
       "\n",
       "    .dataframe thead tr th {\n",
       "        text-align: left;\n",
       "    }\n",
       "\n",
       "    .dataframe thead tr:last-of-type th {\n",
       "        text-align: right;\n",
       "    }\n",
       "</style>\n",
       "<table border=\"1\" class=\"dataframe\">\n",
       "  <thead>\n",
       "    <tr>\n",
       "      <th></th>\n",
       "      <th>ret</th>\n",
       "      <th>lnme</th>\n",
       "      <th>ret</th>\n",
       "      <th>lnme</th>\n",
       "      <th>ret</th>\n",
       "      <th>lnme</th>\n",
       "    </tr>\n",
       "    <tr>\n",
       "      <th></th>\n",
       "      <th>mean</th>\n",
       "      <th>mean</th>\n",
       "      <th>50%</th>\n",
       "      <th>50%</th>\n",
       "      <th>std</th>\n",
       "      <th>std</th>\n",
       "    </tr>\n",
       "    <tr>\n",
       "      <th>exchcd</th>\n",
       "      <th></th>\n",
       "      <th></th>\n",
       "      <th></th>\n",
       "      <th></th>\n",
       "      <th></th>\n",
       "      <th></th>\n",
       "    </tr>\n",
       "  </thead>\n",
       "  <tbody>\n",
       "    <tr>\n",
       "      <th>1</th>\n",
       "      <td>0.0106</td>\n",
       "      <td>7.8429</td>\n",
       "      <td>0.0095</td>\n",
       "      <td>7.8152</td>\n",
       "      <td>0.1306</td>\n",
       "      <td>1.7410</td>\n",
       "    </tr>\n",
       "    <tr>\n",
       "      <th>2</th>\n",
       "      <td>0.0061</td>\n",
       "      <td>4.0257</td>\n",
       "      <td>-0.0104</td>\n",
       "      <td>3.8878</td>\n",
       "      <td>0.2336</td>\n",
       "      <td>1.4255</td>\n",
       "    </tr>\n",
       "    <tr>\n",
       "      <th>3</th>\n",
       "      <td>0.0119</td>\n",
       "      <td>5.7896</td>\n",
       "      <td>0.0030</td>\n",
       "      <td>5.6982</td>\n",
       "      <td>0.1956</td>\n",
       "      <td>1.9301</td>\n",
       "    </tr>\n",
       "  </tbody>\n",
       "</table>\n",
       "</div>"
      ],
      "text/plain": [
       "           ret    lnme     ret    lnme     ret    lnme\n",
       "          mean    mean     50%     50%     std     std\n",
       "exchcd                                                \n",
       "1       0.0106  7.8429  0.0095  7.8152  0.1306  1.7410\n",
       "2       0.0061  4.0257 -0.0104  3.8878  0.2336  1.4255\n",
       "3       0.0119  5.7896  0.0030  5.6982  0.1956  1.9301"
      ]
     },
     "execution_count": 18,
     "metadata": {},
     "output_type": "execute_result"
    }
   ],
   "source": [
    "# Summary statistics by stock exchange\n",
    "round(crsp.groupby('exchcd')[['ret', 'lnme']].describe()\n",
    ".loc[:, (slice(None), ['mean', '50%', 'std'])], 4)"
   ]
  },
  {
   "cell_type": "code",
   "execution_count": 19,
   "id": "dda32b66",
   "metadata": {
    "execution": {
     "iopub.execute_input": "2021-10-05T11:51:25.504075Z",
     "iopub.status.busy": "2021-10-05T11:51:25.503462Z",
     "iopub.status.idle": "2021-10-05T11:51:25.606672Z",
     "shell.execute_reply": "2021-10-05T11:51:25.607096Z"
    }
   },
   "outputs": [
    {
     "name": "stdout",
     "output_type": "stream",
     "text": [
      "Before 2015\n",
      "                 ret           lnme\n",
      "count  223628.000000  224712.000000\n",
      "mean        0.008081       6.308403\n",
      "std         0.150606       2.096421\n",
      "min        -0.935356      -0.896832\n",
      "25%        -0.054922       4.771121\n",
      "50%         0.004207       6.272747\n",
      "75%         0.061369       7.744562\n",
      "max        15.984456      13.528774\n",
      "\n",
      "After 2015\n",
      "                 ret           lnme\n",
      "count  216093.000000  217247.000000\n",
      "mean        0.014274       6.537897\n",
      "std         0.202149       2.209074\n",
      "min        -0.993600      -2.426619\n",
      "25%        -0.062021       4.975455\n",
      "50%         0.005594       6.533329\n",
      "75%         0.072987       8.032318\n",
      "max        19.883589      14.629090\n"
     ]
    }
   ],
   "source": [
    "# Summary statistics in subsamples\n",
    "print('Before 2015')\n",
    "print(crsp.query('year<=2015')[['ret', 'lnme']].describe())\n",
    "print('\\nAfter 2015')\n",
    "print(crsp.query('year>=2016')[['ret', 'lnme']].describe())"
   ]
  }
 ],
 "metadata": {
  "kernelspec": {
   "display_name": "Python3",
   "language": "python",
   "name": "python3"
  },
  "language_info": {
   "codemirror_mode": {
    "name": "ipython",
    "version": 3
   },
   "file_extension": ".py",
   "mimetype": "text/x-python",
   "name": "python",
   "nbconvert_exporter": "python",
   "pygments_lexer": "ipython3",
   "version": "3.8.11"
  }
 },
 "nbformat": 4,
 "nbformat_minor": 5
}