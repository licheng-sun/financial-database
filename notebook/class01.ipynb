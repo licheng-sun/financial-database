{
 "cells": [
  {
   "cell_type": "markdown",
   "id": "9fc1428c-ab7d-4f7a-953a-9e7c0f3bed28",
   "metadata": {},
   "source": [
    "# Class01"
   ]
  },
  {
   "cell_type": "markdown",
   "id": "699901c7-948f-4b0d-b1c1-d1af70cf9e99",
   "metadata": {},
   "source": [
    "## Import Packages"
   ]
  },
  {
   "cell_type": "code",
   "execution_count": null,
   "id": "43ed0bc0-1be9-4446-b570-57f25299675d",
   "metadata": {},
   "outputs": [],
   "source": [
    "import wrds\n",
    "import pandas as pd"
   ]
  },
  {
   "cell_type": "markdown",
   "id": "10c1d85f-a601-445c-92da-4e68d0dc33b4",
   "metadata": {},
   "source": [
    "## Connect to WRDS cloud"
   ]
  },
  {
   "cell_type": "code",
   "execution_count": null,
   "id": "8be5a6af-390e-46cf-b6f1-c0ee5365a948",
   "metadata": {},
   "outputs": [],
   "source": [
    "conn = wrds.Connection()"
   ]
  },
  {
   "cell_type": "markdown",
   "id": "235318b1-7b40-4a56-b6d3-2c302c4afd08",
   "metadata": {},
   "source": [
    "## List databases"
   ]
  },
  {
   "cell_type": "code",
   "execution_count": null,
   "id": "fa947eec-b47a-421e-8402-9c155608e04f",
   "metadata": {},
   "outputs": [],
   "source": [
    "lib = conn.list_libraries()\n",
    "# view first 3 databases\n",
    "lib[:3]"
   ]
  },
  {
   "cell_type": "markdown",
   "id": "135e0eb6-ef50-430e-8672-f24e49f09622",
   "metadata": {},
   "source": [
    "## List tables"
   ]
  },
  {
   "cell_type": "code",
   "execution_count": null,
   "id": "f5de6799-ce73-450c-8b58-8765b50ef369",
   "metadata": {},
   "outputs": [],
   "source": [
    "# get tables from CRSP database\n",
    "table = conn.list_tables('crsp')\n",
    "# view first 3 tables\n",
    "table[:3]"
   ]
  },
  {
   "cell_type": "markdown",
   "id": "5916cdc5-9614-474f-817d-ab002a26d8fe",
   "metadata": {},
   "source": [
    "## Describe tables"
   ]
  },
  {
   "cell_type": "code",
   "execution_count": null,
   "id": "8aebb41f-f443-4bc4-9865-841d0e88c8bf",
   "metadata": {},
   "outputs": [],
   "source": [
    "# list variables in monthly stock file (msf) from CRSP\n",
    "conn.describe_table('crsp', 'msf')"
   ]
  },
  {
   "cell_type": "markdown",
   "id": "9d49c55a-583f-4cca-aadc-ab97443f9232",
   "metadata": {},
   "source": [
    "## Extract data"
   ]
  },
  {
   "cell_type": "code",
   "execution_count": null,
   "id": "6678a426-dc74-4a11-99c4-e9ee4d013da5",
   "metadata": {},
   "outputs": [],
   "source": [
    "msf = conn.raw_sql(\"\"\"\n",
    "    select permno, date, ret\n",
    "    from crsp.msf\n",
    "    where date>='01/01/2020' and date<='05/31/2020'\n",
    "\"\"\")\n",
    "\n",
    "# list first 5 observations\n",
    "msf.head()"
   ]
  }
 ],
 "metadata": {
  "kernelspec": {
   "display_name": "Python3",
   "language": "python",
   "name": "python3"
  },
  "language_info": {
   "codemirror_mode": {
    "name": "ipython",
    "version": 3
   },
   "file_extension": ".py",
   "mimetype": "text/x-python",
   "name": "python",
   "nbconvert_exporter": "python",
   "pygments_lexer": "ipython3",
   "version": "3.8.12"
  }
 },
 "nbformat": 4,
 "nbformat_minor": 5
}
